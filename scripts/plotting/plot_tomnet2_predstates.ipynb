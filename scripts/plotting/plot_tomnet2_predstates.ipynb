{
 "cells": [
  {
   "cell_type": "code",
   "execution_count": 204,
   "id": "67a69430",
   "metadata": {},
   "outputs": [],
   "source": [
    "import pandas as pd\n",
    "import plotly.graph_objects as go\n",
    "from plotly.subplots import make_subplots\n",
    "import numpy as np\n",
    "import glob\n",
    "import statistics as st"
   ]
  },
  {
   "cell_type": "markdown",
   "id": "5174afa3",
   "metadata": {},
   "source": [
    "# State distribution profiles"
   ]
  },
  {
   "cell_type": "code",
   "execution_count": 297,
   "id": "88138d98",
   "metadata": {
    "scrolled": true
   },
   "outputs": [],
   "source": [
    "dfg = pd.read_csv('tomnet2/models/working_model/test_on_simulation_data/training_result/caches/cache_dS001_v1_commit_603c34/prediction/Traj_dS001_pred_Query_dS001_pred/final_sum_predictions.csv')\n",
    "sf = glob.glob('tomnet2/models/working_model/test_on_simulation_data/training_result/caches/cache_dS001_v1_commit_603c34/prediction/Traj_dS001_pred_Query_dS005-104/final_sum_*.csv')\n",
    "dfgt = pd.read_csv('tomnet2/models/working_model/test_on_simulation_data/training_result/caches/cache_dS001_v1_commit_603c34/prediction/Traj_dS001_pred_Query_dS001_pred/final_target_predictions.csv')\n",
    "sft = glob.glob('tomnet2/models/working_model/test_on_simulation_data/training_result/caches/cache_dS001_v1_commit_603c34/prediction/Traj_dS001_pred_Query_dS005-104/final_target_*.csv')\n",
    "x = np.arange(10)"
   ]
  },
  {
   "cell_type": "code",
   "execution_count": 291,
   "id": "b8357f54",
   "metadata": {},
   "outputs": [
    {
     "data": {
      "application/vnd.plotly.v1+json": {
       "config": {
        "plotlyServerURL": "https://plot.ly"
       },
       "data": [
        {
         "legendgroup": "1",
         "line": {
          "color": "rgba(200, 200, 200, 0.3)"
         },
         "mode": "lines",
         "showlegend": false,
         "type": "scatter",
         "x": [
          0,
          1,
          2,
          3,
          4,
          5,
          6,
          7,
          8,
          9
         ],
         "y": [
          408,
          230,
          139,
          401,
          192,
          381,
          3,
          43,
          0,
          2
         ]
        },
        {
         "legendgroup": "1",
         "line": {
          "color": "rgba(200, 200, 200, 0.3)"
         },
         "mode": "lines",
         "showlegend": false,
         "type": "scatter",
         "x": [
          0,
          1,
          2,
          3,
          4,
          5,
          6,
          7,
          8,
          9
         ],
         "y": [
          405,
          221,
          123,
          374,
          214,
          401,
          6,
          40,
          0,
          4
         ]
        },
        {
         "legendgroup": "1",
         "line": {
          "color": "rgba(200, 200, 200, 0.3)"
         },
         "mode": "lines",
         "showlegend": false,
         "type": "scatter",
         "x": [
          0,
          1,
          2,
          3,
          4,
          5,
          6,
          7,
          8,
          9
         ],
         "y": [
          418,
          214,
          130,
          381,
          187,
          393,
          1,
          37,
          0,
          1
         ]
        },
        {
         "legendgroup": "1",
         "line": {
          "color": "rgba(200, 200, 200, 0.3)"
         },
         "mode": "lines",
         "showlegend": false,
         "type": "scatter",
         "x": [
          0,
          1,
          2,
          3,
          4,
          5,
          6,
          7,
          8,
          9
         ],
         "y": [
          403,
          217,
          128,
          358,
          228,
          427,
          6,
          42,
          0,
          6
         ]
        },
        {
         "legendgroup": "1",
         "line": {
          "color": "rgba(200, 200, 200, 0.3)"
         },
         "mode": "lines",
         "showlegend": false,
         "type": "scatter",
         "x": [
          0,
          1,
          2,
          3,
          4,
          5,
          6,
          7,
          8,
          9
         ],
         "y": [
          387,
          229,
          124,
          381,
          205,
          387,
          4,
          49,
          0,
          3
         ]
        },
        {
         "legendgroup": "1",
         "line": {
          "color": "rgba(200, 200, 200, 0.3)"
         },
         "mode": "lines",
         "showlegend": false,
         "type": "scatter",
         "x": [
          0,
          1,
          2,
          3,
          4,
          5,
          6,
          7,
          8,
          9
         ],
         "y": [
          394,
          211,
          125,
          374,
          218,
          408,
          7,
          47,
          0,
          4
         ]
        },
        {
         "legendgroup": "1",
         "line": {
          "color": "rgba(200, 200, 200, 0.3)"
         },
         "mode": "lines",
         "showlegend": false,
         "type": "scatter",
         "x": [
          0,
          1,
          2,
          3,
          4,
          5,
          6,
          7,
          8,
          9
         ],
         "y": [
          394,
          202,
          138,
          391,
          228,
          425,
          4,
          37,
          0,
          4
         ]
        },
        {
         "legendgroup": "1",
         "line": {
          "color": "rgba(200, 200, 200, 0.3)"
         },
         "mode": "lines",
         "showlegend": false,
         "type": "scatter",
         "x": [
          0,
          1,
          2,
          3,
          4,
          5,
          6,
          7,
          8,
          9
         ],
         "y": [
          419,
          214,
          144,
          368,
          215,
          407,
          8,
          40,
          0,
          8
         ]
        },
        {
         "legendgroup": "1",
         "line": {
          "color": "rgba(200, 200, 200, 0.3)"
         },
         "mode": "lines",
         "showlegend": false,
         "type": "scatter",
         "x": [
          0,
          1,
          2,
          3,
          4,
          5,
          6,
          7,
          8,
          9
         ],
         "y": [
          403,
          214,
          137,
          371,
          209,
          419,
          3,
          48,
          0,
          3
         ]
        },
        {
         "legendgroup": "1",
         "line": {
          "color": "rgba(200, 200, 200, 0.3)"
         },
         "mode": "lines",
         "showlegend": false,
         "type": "scatter",
         "x": [
          0,
          1,
          2,
          3,
          4,
          5,
          6,
          7,
          8,
          9
         ],
         "y": [
          407,
          223,
          115,
          376,
          216,
          408,
          3,
          43,
          0,
          3
         ]
        },
        {
         "legendgroup": "1",
         "line": {
          "color": "rgba(200, 200, 200, 0.3)"
         },
         "mode": "lines",
         "showlegend": false,
         "type": "scatter",
         "x": [
          0,
          1,
          2,
          3,
          4,
          5,
          6,
          7,
          8,
          9
         ],
         "y": [
          417,
          214,
          128,
          382,
          203,
          389,
          8,
          53,
          0,
          7
         ]
        },
        {
         "legendgroup": "1",
         "line": {
          "color": "rgba(200, 200, 200, 0.3)"
         },
         "mode": "lines",
         "showlegend": false,
         "type": "scatter",
         "x": [
          0,
          1,
          2,
          3,
          4,
          5,
          6,
          7,
          8,
          9
         ],
         "y": [
          395,
          203,
          122,
          367,
          215,
          413,
          7,
          37,
          0,
          4
         ]
        },
        {
         "legendgroup": "1",
         "line": {
          "color": "rgba(200, 200, 200, 0.3)"
         },
         "mode": "lines",
         "showlegend": false,
         "type": "scatter",
         "x": [
          0,
          1,
          2,
          3,
          4,
          5,
          6,
          7,
          8,
          9
         ],
         "y": [
          402,
          226,
          129,
          382,
          206,
          404,
          6,
          40,
          0,
          5
         ]
        },
        {
         "legendgroup": "1",
         "line": {
          "color": "rgba(200, 200, 200, 0.3)"
         },
         "mode": "lines",
         "showlegend": false,
         "type": "scatter",
         "x": [
          0,
          1,
          2,
          3,
          4,
          5,
          6,
          7,
          8,
          9
         ],
         "y": [
          414,
          207,
          123,
          373,
          210,
          412,
          10,
          48,
          0,
          7
         ]
        },
        {
         "legendgroup": "1",
         "line": {
          "color": "rgba(200, 200, 200, 0.3)"
         },
         "mode": "lines",
         "showlegend": false,
         "type": "scatter",
         "x": [
          0,
          1,
          2,
          3,
          4,
          5,
          6,
          7,
          8,
          9
         ],
         "y": [
          407,
          201,
          134,
          394,
          199,
          425,
          7,
          36,
          0,
          6
         ]
        },
        {
         "legendgroup": "1",
         "line": {
          "color": "rgba(200, 200, 200, 0.3)"
         },
         "mode": "lines",
         "showlegend": false,
         "type": "scatter",
         "x": [
          0,
          1,
          2,
          3,
          4,
          5,
          6,
          7,
          8,
          9
         ],
         "y": [
          417,
          210,
          126,
          371,
          204,
          403,
          9,
          44,
          0,
          8
         ]
        },
        {
         "legendgroup": "1",
         "line": {
          "color": "rgba(200, 200, 200, 0.3)"
         },
         "mode": "lines",
         "showlegend": false,
         "type": "scatter",
         "x": [
          0,
          1,
          2,
          3,
          4,
          5,
          6,
          7,
          8,
          9
         ],
         "y": [
          402,
          214,
          127,
          371,
          193,
          408,
          8,
          45,
          0,
          4
         ]
        },
        {
         "legendgroup": "1",
         "line": {
          "color": "rgba(200, 200, 200, 0.3)"
         },
         "mode": "lines",
         "showlegend": false,
         "type": "scatter",
         "x": [
          0,
          1,
          2,
          3,
          4,
          5,
          6,
          7,
          8,
          9
         ],
         "y": [
          422,
          212,
          118,
          369,
          206,
          409,
          9,
          43,
          0,
          7
         ]
        },
        {
         "legendgroup": "1",
         "line": {
          "color": "rgba(200, 200, 200, 0.3)"
         },
         "mode": "lines",
         "showlegend": false,
         "type": "scatter",
         "x": [
          0,
          1,
          2,
          3,
          4,
          5,
          6,
          7,
          8,
          9
         ],
         "y": [
          418,
          213,
          127,
          391,
          199,
          398,
          5,
          41,
          0,
          4
         ]
        },
        {
         "legendgroup": "1",
         "line": {
          "color": "rgba(200, 200, 200, 0.3)"
         },
         "mode": "lines",
         "showlegend": false,
         "type": "scatter",
         "x": [
          0,
          1,
          2,
          3,
          4,
          5,
          6,
          7,
          8,
          9
         ],
         "y": [
          403,
          219,
          128,
          374,
          209,
          429,
          10,
          39,
          0,
          10
         ]
        },
        {
         "legendgroup": "1",
         "line": {
          "color": "rgba(200, 200, 200, 0.3)"
         },
         "mode": "lines",
         "showlegend": false,
         "type": "scatter",
         "x": [
          0,
          1,
          2,
          3,
          4,
          5,
          6,
          7,
          8,
          9
         ],
         "y": [
          404,
          222,
          121,
          369,
          204,
          424,
          5,
          37,
          0,
          5
         ]
        },
        {
         "legendgroup": "1",
         "line": {
          "color": "rgba(200, 200, 200, 0.3)"
         },
         "mode": "lines",
         "showlegend": false,
         "type": "scatter",
         "x": [
          0,
          1,
          2,
          3,
          4,
          5,
          6,
          7,
          8,
          9
         ],
         "y": [
          383,
          220,
          134,
          371,
          220,
          392,
          10,
          49,
          0,
          8
         ]
        },
        {
         "legendgroup": "1",
         "line": {
          "color": "rgba(200, 200, 200, 0.3)"
         },
         "mode": "lines",
         "showlegend": false,
         "type": "scatter",
         "x": [
          0,
          1,
          2,
          3,
          4,
          5,
          6,
          7,
          8,
          9
         ],
         "y": [
          419,
          224,
          121,
          370,
          213,
          420,
          7,
          38,
          0,
          4
         ]
        },
        {
         "legendgroup": "1",
         "line": {
          "color": "rgba(200, 200, 200, 0.3)"
         },
         "mode": "lines",
         "showlegend": false,
         "type": "scatter",
         "x": [
          0,
          1,
          2,
          3,
          4,
          5,
          6,
          7,
          8,
          9
         ],
         "y": [
          402,
          200,
          131,
          387,
          214,
          403,
          7,
          38,
          0,
          4
         ]
        },
        {
         "legendgroup": "1",
         "line": {
          "color": "rgba(200, 200, 200, 0.3)"
         },
         "mode": "lines",
         "showlegend": false,
         "type": "scatter",
         "x": [
          0,
          1,
          2,
          3,
          4,
          5,
          6,
          7,
          8,
          9
         ],
         "y": [
          415,
          201,
          133,
          381,
          203,
          411,
          8,
          47,
          0,
          5
         ]
        },
        {
         "legendgroup": "1",
         "line": {
          "color": "rgba(200, 200, 200, 0.3)"
         },
         "mode": "lines",
         "showlegend": false,
         "type": "scatter",
         "x": [
          0,
          1,
          2,
          3,
          4,
          5,
          6,
          7,
          8,
          9
         ],
         "y": [
          394,
          205,
          128,
          370,
          205,
          416,
          5,
          48,
          0,
          2
         ]
        },
        {
         "legendgroup": "1",
         "line": {
          "color": "rgba(200, 200, 200, 0.3)"
         },
         "mode": "lines",
         "showlegend": false,
         "type": "scatter",
         "x": [
          0,
          1,
          2,
          3,
          4,
          5,
          6,
          7,
          8,
          9
         ],
         "y": [
          402,
          226,
          139,
          356,
          222,
          383,
          9,
          47,
          0,
          9
         ]
        },
        {
         "legendgroup": "1",
         "line": {
          "color": "rgba(200, 200, 200, 0.3)"
         },
         "mode": "lines",
         "showlegend": false,
         "type": "scatter",
         "x": [
          0,
          1,
          2,
          3,
          4,
          5,
          6,
          7,
          8,
          9
         ],
         "y": [
          404,
          214,
          124,
          370,
          201,
          413,
          4,
          34,
          0,
          2
         ]
        },
        {
         "legendgroup": "1",
         "line": {
          "color": "rgba(200, 200, 200, 0.3)"
         },
         "mode": "lines",
         "showlegend": false,
         "type": "scatter",
         "x": [
          0,
          1,
          2,
          3,
          4,
          5,
          6,
          7,
          8,
          9
         ],
         "y": [
          416,
          217,
          139,
          376,
          204,
          412,
          7,
          38,
          0,
          4
         ]
        },
        {
         "legendgroup": "1",
         "line": {
          "color": "rgba(200, 200, 200, 0.3)"
         },
         "mode": "lines",
         "showlegend": false,
         "type": "scatter",
         "x": [
          0,
          1,
          2,
          3,
          4,
          5,
          6,
          7,
          8,
          9
         ],
         "y": [
          393,
          191,
          136,
          374,
          214,
          424,
          9,
          45,
          0,
          6
         ]
        },
        {
         "legendgroup": "1",
         "line": {
          "color": "rgba(200, 200, 200, 0.3)"
         },
         "mode": "lines",
         "showlegend": false,
         "type": "scatter",
         "x": [
          0,
          1,
          2,
          3,
          4,
          5,
          6,
          7,
          8,
          9
         ],
         "y": [
          413,
          203,
          141,
          390,
          212,
          409,
          8,
          41,
          0,
          5
         ]
        },
        {
         "legendgroup": "1",
         "line": {
          "color": "rgba(200, 200, 200, 0.3)"
         },
         "mode": "lines",
         "showlegend": false,
         "type": "scatter",
         "x": [
          0,
          1,
          2,
          3,
          4,
          5,
          6,
          7,
          8,
          9
         ],
         "y": [
          398,
          224,
          130,
          370,
          216,
          412,
          9,
          43,
          0,
          8
         ]
        },
        {
         "legendgroup": "1",
         "line": {
          "color": "rgba(200, 200, 200, 0.3)"
         },
         "mode": "lines",
         "showlegend": false,
         "type": "scatter",
         "x": [
          0,
          1,
          2,
          3,
          4,
          5,
          6,
          7,
          8,
          9
         ],
         "y": [
          413,
          217,
          118,
          370,
          221,
          418,
          7,
          36,
          0,
          4
         ]
        },
        {
         "legendgroup": "1",
         "line": {
          "color": "rgba(200, 200, 200, 0.3)"
         },
         "mode": "lines",
         "showlegend": false,
         "type": "scatter",
         "x": [
          0,
          1,
          2,
          3,
          4,
          5,
          6,
          7,
          8,
          9
         ],
         "y": [
          399,
          217,
          129,
          389,
          218,
          417,
          5,
          46,
          0,
          3
         ]
        },
        {
         "legendgroup": "1",
         "line": {
          "color": "rgba(200, 200, 200, 0.3)"
         },
         "mode": "lines",
         "showlegend": false,
         "type": "scatter",
         "x": [
          0,
          1,
          2,
          3,
          4,
          5,
          6,
          7,
          8,
          9
         ],
         "y": [
          415,
          222,
          129,
          387,
          186,
          392,
          5,
          50,
          0,
          4
         ]
        },
        {
         "legendgroup": "1",
         "line": {
          "color": "rgba(200, 200, 200, 0.3)"
         },
         "mode": "lines",
         "showlegend": false,
         "type": "scatter",
         "x": [
          0,
          1,
          2,
          3,
          4,
          5,
          6,
          7,
          8,
          9
         ],
         "y": [
          414,
          215,
          133,
          371,
          227,
          401,
          6,
          41,
          0,
          5
         ]
        },
        {
         "legendgroup": "1",
         "line": {
          "color": "rgba(200, 200, 200, 0.3)"
         },
         "mode": "lines",
         "showlegend": false,
         "type": "scatter",
         "x": [
          0,
          1,
          2,
          3,
          4,
          5,
          6,
          7,
          8,
          9
         ],
         "y": [
          400,
          222,
          132,
          388,
          207,
          409,
          6,
          37,
          0,
          5
         ]
        },
        {
         "legendgroup": "1",
         "line": {
          "color": "rgba(200, 200, 200, 0.3)"
         },
         "mode": "lines",
         "showlegend": false,
         "type": "scatter",
         "x": [
          0,
          1,
          2,
          3,
          4,
          5,
          6,
          7,
          8,
          9
         ],
         "y": [
          399,
          221,
          131,
          364,
          206,
          400,
          5,
          38,
          0,
          3
         ]
        },
        {
         "legendgroup": "1",
         "line": {
          "color": "rgba(200, 200, 200, 0.3)"
         },
         "mode": "lines",
         "showlegend": false,
         "type": "scatter",
         "x": [
          0,
          1,
          2,
          3,
          4,
          5,
          6,
          7,
          8,
          9
         ],
         "y": [
          404,
          224,
          142,
          391,
          206,
          401,
          6,
          40,
          0,
          5
         ]
        },
        {
         "legendgroup": "1",
         "line": {
          "color": "rgba(200, 200, 200, 0.3)"
         },
         "mode": "lines",
         "showlegend": false,
         "type": "scatter",
         "x": [
          0,
          1,
          2,
          3,
          4,
          5,
          6,
          7,
          8,
          9
         ],
         "y": [
          399,
          213,
          119,
          358,
          223,
          417,
          4,
          41,
          0,
          1
         ]
        },
        {
         "legendgroup": "1",
         "line": {
          "color": "rgba(200, 200, 200, 0.3)"
         },
         "mode": "lines",
         "showlegend": false,
         "type": "scatter",
         "x": [
          0,
          1,
          2,
          3,
          4,
          5,
          6,
          7,
          8,
          9
         ],
         "y": [
          430,
          225,
          136,
          383,
          194,
          373,
          2,
          41,
          0,
          0
         ]
        },
        {
         "legendgroup": "1",
         "line": {
          "color": "rgba(200, 200, 200, 0.3)"
         },
         "mode": "lines",
         "showlegend": false,
         "type": "scatter",
         "x": [
          0,
          1,
          2,
          3,
          4,
          5,
          6,
          7,
          8,
          9
         ],
         "y": [
          401,
          210,
          136,
          380,
          203,
          403,
          4,
          41,
          0,
          3
         ]
        },
        {
         "legendgroup": "1",
         "line": {
          "color": "rgba(200, 200, 200, 0.3)"
         },
         "mode": "lines",
         "showlegend": false,
         "type": "scatter",
         "x": [
          0,
          1,
          2,
          3,
          4,
          5,
          6,
          7,
          8,
          9
         ],
         "y": [
          419,
          209,
          125,
          368,
          219,
          410,
          4,
          37,
          0,
          4
         ]
        },
        {
         "legendgroup": "1",
         "line": {
          "color": "rgba(200, 200, 200, 0.3)"
         },
         "mode": "lines",
         "showlegend": false,
         "type": "scatter",
         "x": [
          0,
          1,
          2,
          3,
          4,
          5,
          6,
          7,
          8,
          9
         ],
         "y": [
          391,
          226,
          129,
          372,
          222,
          392,
          3,
          41,
          0,
          3
         ]
        },
        {
         "legendgroup": "1",
         "line": {
          "color": "rgba(200, 200, 200, 0.3)"
         },
         "mode": "lines",
         "showlegend": false,
         "type": "scatter",
         "x": [
          0,
          1,
          2,
          3,
          4,
          5,
          6,
          7,
          8,
          9
         ],
         "y": [
          415,
          221,
          133,
          364,
          222,
          394,
          8,
          41,
          0,
          5
         ]
        },
        {
         "legendgroup": "1",
         "line": {
          "color": "rgba(200, 200, 200, 0.3)"
         },
         "mode": "lines",
         "showlegend": false,
         "type": "scatter",
         "x": [
          0,
          1,
          2,
          3,
          4,
          5,
          6,
          7,
          8,
          9
         ],
         "y": [
          409,
          210,
          143,
          367,
          210,
          417,
          5,
          34,
          0,
          4
         ]
        },
        {
         "legendgroup": "1",
         "line": {
          "color": "rgba(200, 200, 200, 0.3)"
         },
         "mode": "lines",
         "showlegend": false,
         "type": "scatter",
         "x": [
          0,
          1,
          2,
          3,
          4,
          5,
          6,
          7,
          8,
          9
         ],
         "y": [
          404,
          212,
          131,
          367,
          226,
          426,
          9,
          47,
          0,
          7
         ]
        },
        {
         "legendgroup": "1",
         "line": {
          "color": "rgba(200, 200, 200, 0.3)"
         },
         "mode": "lines",
         "showlegend": false,
         "type": "scatter",
         "x": [
          0,
          1,
          2,
          3,
          4,
          5,
          6,
          7,
          8,
          9
         ],
         "y": [
          402,
          213,
          130,
          370,
          209,
          414,
          9,
          47,
          0,
          7
         ]
        },
        {
         "legendgroup": "1",
         "line": {
          "color": "rgba(200, 200, 200, 0.3)"
         },
         "mode": "lines",
         "showlegend": false,
         "type": "scatter",
         "x": [
          0,
          1,
          2,
          3,
          4,
          5,
          6,
          7,
          8,
          9
         ],
         "y": [
          416,
          197,
          127,
          372,
          200,
          436,
          5,
          40,
          0,
          5
         ]
        },
        {
         "legendgroup": "1",
         "line": {
          "color": "rgba(200, 200, 200, 0.3)"
         },
         "mode": "lines",
         "showlegend": false,
         "type": "scatter",
         "x": [
          0,
          1,
          2,
          3,
          4,
          5,
          6,
          7,
          8,
          9
         ],
         "y": [
          385,
          212,
          128,
          376,
          208,
          425,
          8,
          46,
          0,
          6
         ]
        },
        {
         "legendgroup": "1",
         "line": {
          "color": "rgba(200, 200, 200, 0.3)"
         },
         "mode": "lines",
         "showlegend": false,
         "type": "scatter",
         "x": [
          0,
          1,
          2,
          3,
          4,
          5,
          6,
          7,
          8,
          9
         ],
         "y": [
          397,
          202,
          150,
          380,
          210,
          442,
          8,
          42,
          0,
          7
         ]
        },
        {
         "legendgroup": "1",
         "line": {
          "color": "rgba(200, 200, 200, 0.3)"
         },
         "mode": "lines",
         "showlegend": false,
         "type": "scatter",
         "x": [
          0,
          1,
          2,
          3,
          4,
          5,
          6,
          7,
          8,
          9
         ],
         "y": [
          439,
          205,
          122,
          375,
          203,
          432,
          8,
          38,
          0,
          8
         ]
        },
        {
         "legendgroup": "1",
         "line": {
          "color": "rgba(200, 200, 200, 0.3)"
         },
         "mode": "lines",
         "showlegend": false,
         "type": "scatter",
         "x": [
          0,
          1,
          2,
          3,
          4,
          5,
          6,
          7,
          8,
          9
         ],
         "y": [
          381,
          205,
          137,
          381,
          208,
          405,
          6,
          48,
          0,
          5
         ]
        },
        {
         "legendgroup": "1",
         "line": {
          "color": "rgba(200, 200, 200, 0.3)"
         },
         "mode": "lines",
         "showlegend": false,
         "type": "scatter",
         "x": [
          0,
          1,
          2,
          3,
          4,
          5,
          6,
          7,
          8,
          9
         ],
         "y": [
          409,
          204,
          143,
          400,
          215,
          415,
          9,
          34,
          0,
          7
         ]
        },
        {
         "legendgroup": "1",
         "line": {
          "color": "rgba(200, 200, 200, 0.3)"
         },
         "mode": "lines",
         "showlegend": false,
         "type": "scatter",
         "x": [
          0,
          1,
          2,
          3,
          4,
          5,
          6,
          7,
          8,
          9
         ],
         "y": [
          414,
          208,
          126,
          365,
          207,
          412,
          3,
          45,
          0,
          3
         ]
        },
        {
         "legendgroup": "1",
         "line": {
          "color": "rgba(200, 200, 200, 0.3)"
         },
         "mode": "lines",
         "showlegend": false,
         "type": "scatter",
         "x": [
          0,
          1,
          2,
          3,
          4,
          5,
          6,
          7,
          8,
          9
         ],
         "y": [
          407,
          205,
          137,
          365,
          207,
          421,
          11,
          52,
          0,
          8
         ]
        },
        {
         "legendgroup": "1",
         "line": {
          "color": "rgba(200, 200, 200, 0.3)"
         },
         "mode": "lines",
         "showlegend": false,
         "type": "scatter",
         "x": [
          0,
          1,
          2,
          3,
          4,
          5,
          6,
          7,
          8,
          9
         ],
         "y": [
          419,
          210,
          130,
          358,
          215,
          401,
          3,
          39,
          0,
          2
         ]
        },
        {
         "legendgroup": "1",
         "line": {
          "color": "rgba(200, 200, 200, 0.3)"
         },
         "mode": "lines",
         "showlegend": false,
         "type": "scatter",
         "x": [
          0,
          1,
          2,
          3,
          4,
          5,
          6,
          7,
          8,
          9
         ],
         "y": [
          402,
          222,
          128,
          371,
          225,
          405,
          7,
          41,
          0,
          5
         ]
        },
        {
         "legendgroup": "1",
         "line": {
          "color": "rgba(200, 200, 200, 0.3)"
         },
         "mode": "lines",
         "showlegend": false,
         "type": "scatter",
         "x": [
          0,
          1,
          2,
          3,
          4,
          5,
          6,
          7,
          8,
          9
         ],
         "y": [
          410,
          216,
          127,
          371,
          220,
          407,
          11,
          39,
          0,
          10
         ]
        },
        {
         "legendgroup": "1",
         "line": {
          "color": "rgba(200, 200, 200, 0.3)"
         },
         "mode": "lines",
         "showlegend": false,
         "type": "scatter",
         "x": [
          0,
          1,
          2,
          3,
          4,
          5,
          6,
          7,
          8,
          9
         ],
         "y": [
          411,
          222,
          128,
          357,
          232,
          416,
          10,
          45,
          0,
          10
         ]
        },
        {
         "legendgroup": "1",
         "line": {
          "color": "rgba(200, 200, 200, 0.3)"
         },
         "mode": "lines",
         "showlegend": false,
         "type": "scatter",
         "x": [
          0,
          1,
          2,
          3,
          4,
          5,
          6,
          7,
          8,
          9
         ],
         "y": [
          395,
          201,
          133,
          395,
          208,
          429,
          3,
          46,
          0,
          3
         ]
        },
        {
         "legendgroup": "1",
         "line": {
          "color": "rgba(200, 200, 200, 0.3)"
         },
         "mode": "lines",
         "showlegend": false,
         "type": "scatter",
         "x": [
          0,
          1,
          2,
          3,
          4,
          5,
          6,
          7,
          8,
          9
         ],
         "y": [
          398,
          210,
          131,
          366,
          212,
          400,
          4,
          43,
          0,
          3
         ]
        },
        {
         "legendgroup": "1",
         "line": {
          "color": "rgba(200, 200, 200, 0.3)"
         },
         "mode": "lines",
         "showlegend": false,
         "type": "scatter",
         "x": [
          0,
          1,
          2,
          3,
          4,
          5,
          6,
          7,
          8,
          9
         ],
         "y": [
          425,
          205,
          125,
          390,
          192,
          399,
          4,
          39,
          0,
          3
         ]
        },
        {
         "legendgroup": "1",
         "line": {
          "color": "rgba(200, 200, 200, 0.3)"
         },
         "mode": "lines",
         "showlegend": false,
         "type": "scatter",
         "x": [
          0,
          1,
          2,
          3,
          4,
          5,
          6,
          7,
          8,
          9
         ],
         "y": [
          416,
          211,
          128,
          378,
          200,
          399,
          3,
          35,
          0,
          1
         ]
        },
        {
         "legendgroup": "1",
         "line": {
          "color": "rgba(200, 200, 200, 0.3)"
         },
         "mode": "lines",
         "showlegend": false,
         "type": "scatter",
         "x": [
          0,
          1,
          2,
          3,
          4,
          5,
          6,
          7,
          8,
          9
         ],
         "y": [
          407,
          212,
          121,
          376,
          217,
          414,
          6,
          43,
          0,
          6
         ]
        },
        {
         "legendgroup": "1",
         "line": {
          "color": "rgba(200, 200, 200, 0.3)"
         },
         "mode": "lines",
         "showlegend": false,
         "type": "scatter",
         "x": [
          0,
          1,
          2,
          3,
          4,
          5,
          6,
          7,
          8,
          9
         ],
         "y": [
          415,
          222,
          137,
          393,
          205,
          401,
          9,
          40,
          0,
          7
         ]
        },
        {
         "legendgroup": "1",
         "line": {
          "color": "rgba(200, 200, 200, 0.3)"
         },
         "mode": "lines",
         "showlegend": false,
         "type": "scatter",
         "x": [
          0,
          1,
          2,
          3,
          4,
          5,
          6,
          7,
          8,
          9
         ],
         "y": [
          401,
          226,
          129,
          371,
          208,
          397,
          9,
          48,
          0,
          8
         ]
        },
        {
         "legendgroup": "1",
         "line": {
          "color": "rgba(200, 200, 200, 0.3)"
         },
         "mode": "lines",
         "showlegend": false,
         "type": "scatter",
         "x": [
          0,
          1,
          2,
          3,
          4,
          5,
          6,
          7,
          8,
          9
         ],
         "y": [
          413,
          212,
          133,
          357,
          235,
          407,
          10,
          50,
          0,
          6
         ]
        },
        {
         "legendgroup": "1",
         "line": {
          "color": "rgba(200, 200, 200, 0.3)"
         },
         "mode": "lines",
         "showlegend": false,
         "type": "scatter",
         "x": [
          0,
          1,
          2,
          3,
          4,
          5,
          6,
          7,
          8,
          9
         ],
         "y": [
          411,
          204,
          115,
          379,
          211,
          407,
          5,
          39,
          0,
          2
         ]
        },
        {
         "legendgroup": "1",
         "line": {
          "color": "rgba(200, 200, 200, 0.3)"
         },
         "mode": "lines",
         "showlegend": false,
         "type": "scatter",
         "x": [
          0,
          1,
          2,
          3,
          4,
          5,
          6,
          7,
          8,
          9
         ],
         "y": [
          415,
          221,
          137,
          370,
          194,
          392,
          5,
          48,
          0,
          5
         ]
        },
        {
         "legendgroup": "1",
         "line": {
          "color": "rgba(200, 200, 200, 0.3)"
         },
         "mode": "lines",
         "showlegend": false,
         "type": "scatter",
         "x": [
          0,
          1,
          2,
          3,
          4,
          5,
          6,
          7,
          8,
          9
         ],
         "y": [
          412,
          235,
          132,
          376,
          209,
          387,
          2,
          28,
          0,
          2
         ]
        },
        {
         "legendgroup": "1",
         "line": {
          "color": "rgba(200, 200, 200, 0.3)"
         },
         "mode": "lines",
         "showlegend": false,
         "type": "scatter",
         "x": [
          0,
          1,
          2,
          3,
          4,
          5,
          6,
          7,
          8,
          9
         ],
         "y": [
          409,
          220,
          114,
          366,
          220,
          395,
          7,
          44,
          0,
          3
         ]
        },
        {
         "legendgroup": "1",
         "line": {
          "color": "rgba(200, 200, 200, 0.3)"
         },
         "mode": "lines",
         "showlegend": false,
         "type": "scatter",
         "x": [
          0,
          1,
          2,
          3,
          4,
          5,
          6,
          7,
          8,
          9
         ],
         "y": [
          402,
          211,
          131,
          387,
          207,
          429,
          8,
          43,
          0,
          7
         ]
        },
        {
         "legendgroup": "1",
         "line": {
          "color": "rgba(200, 200, 200, 0.3)"
         },
         "mode": "lines",
         "showlegend": false,
         "type": "scatter",
         "x": [
          0,
          1,
          2,
          3,
          4,
          5,
          6,
          7,
          8,
          9
         ],
         "y": [
          403,
          226,
          127,
          375,
          200,
          402,
          4,
          46,
          0,
          4
         ]
        },
        {
         "legendgroup": "1",
         "line": {
          "color": "rgba(200, 200, 200, 0.3)"
         },
         "mode": "lines",
         "showlegend": false,
         "type": "scatter",
         "x": [
          0,
          1,
          2,
          3,
          4,
          5,
          6,
          7,
          8,
          9
         ],
         "y": [
          411,
          213,
          129,
          365,
          227,
          440,
          14,
          44,
          0,
          13
         ]
        },
        {
         "legendgroup": "1",
         "line": {
          "color": "rgba(200, 200, 200, 0.3)"
         },
         "mode": "lines",
         "showlegend": false,
         "type": "scatter",
         "x": [
          0,
          1,
          2,
          3,
          4,
          5,
          6,
          7,
          8,
          9
         ],
         "y": [
          399,
          221,
          134,
          371,
          221,
          386,
          6,
          46,
          0,
          4
         ]
        },
        {
         "legendgroup": "1",
         "line": {
          "color": "rgba(200, 200, 200, 0.3)"
         },
         "mode": "lines",
         "showlegend": false,
         "type": "scatter",
         "x": [
          0,
          1,
          2,
          3,
          4,
          5,
          6,
          7,
          8,
          9
         ],
         "y": [
          398,
          211,
          127,
          385,
          194,
          418,
          8,
          51,
          0,
          6
         ]
        },
        {
         "legendgroup": "1",
         "line": {
          "color": "rgba(200, 200, 200, 0.3)"
         },
         "mode": "lines",
         "showlegend": false,
         "type": "scatter",
         "x": [
          0,
          1,
          2,
          3,
          4,
          5,
          6,
          7,
          8,
          9
         ],
         "y": [
          392,
          218,
          144,
          375,
          209,
          398,
          5,
          44,
          0,
          5
         ]
        },
        {
         "legendgroup": "1",
         "line": {
          "color": "rgba(200, 200, 200, 0.3)"
         },
         "mode": "lines",
         "showlegend": false,
         "type": "scatter",
         "x": [
          0,
          1,
          2,
          3,
          4,
          5,
          6,
          7,
          8,
          9
         ],
         "y": [
          407,
          220,
          126,
          385,
          216,
          393,
          2,
          35,
          0,
          1
         ]
        },
        {
         "legendgroup": "1",
         "line": {
          "color": "rgba(200, 200, 200, 0.3)"
         },
         "mode": "lines",
         "showlegend": false,
         "type": "scatter",
         "x": [
          0,
          1,
          2,
          3,
          4,
          5,
          6,
          7,
          8,
          9
         ],
         "y": [
          423,
          231,
          128,
          376,
          214,
          400,
          3,
          40,
          0,
          3
         ]
        },
        {
         "legendgroup": "1",
         "line": {
          "color": "rgba(200, 200, 200, 0.3)"
         },
         "mode": "lines",
         "showlegend": false,
         "type": "scatter",
         "x": [
          0,
          1,
          2,
          3,
          4,
          5,
          6,
          7,
          8,
          9
         ],
         "y": [
          419,
          212,
          124,
          378,
          204,
          398,
          5,
          40,
          0,
          5
         ]
        },
        {
         "legendgroup": "1",
         "line": {
          "color": "rgba(200, 200, 200, 0.3)"
         },
         "mode": "lines",
         "showlegend": false,
         "type": "scatter",
         "x": [
          0,
          1,
          2,
          3,
          4,
          5,
          6,
          7,
          8,
          9
         ],
         "y": [
          397,
          216,
          122,
          368,
          220,
          409,
          10,
          44,
          0,
          7
         ]
        },
        {
         "legendgroup": "1",
         "line": {
          "color": "rgba(200, 200, 200, 0.3)"
         },
         "mode": "lines",
         "showlegend": false,
         "type": "scatter",
         "x": [
          0,
          1,
          2,
          3,
          4,
          5,
          6,
          7,
          8,
          9
         ],
         "y": [
          411,
          212,
          121,
          373,
          220,
          419,
          6,
          43,
          0,
          6
         ]
        },
        {
         "legendgroup": "1",
         "line": {
          "color": "rgba(200, 200, 200, 0.3)"
         },
         "mode": "lines",
         "showlegend": false,
         "type": "scatter",
         "x": [
          0,
          1,
          2,
          3,
          4,
          5,
          6,
          7,
          8,
          9
         ],
         "y": [
          421,
          210,
          139,
          398,
          196,
          417,
          11,
          40,
          0,
          9
         ]
        },
        {
         "legendgroup": "1",
         "line": {
          "color": "rgba(200, 200, 200, 0.3)"
         },
         "mode": "lines",
         "showlegend": false,
         "type": "scatter",
         "x": [
          0,
          1,
          2,
          3,
          4,
          5,
          6,
          7,
          8,
          9
         ],
         "y": [
          407,
          213,
          130,
          366,
          209,
          410,
          6,
          48,
          0,
          3
         ]
        },
        {
         "legendgroup": "1",
         "line": {
          "color": "rgba(200, 200, 200, 0.3)"
         },
         "mode": "lines",
         "showlegend": false,
         "type": "scatter",
         "x": [
          0,
          1,
          2,
          3,
          4,
          5,
          6,
          7,
          8,
          9
         ],
         "y": [
          416,
          219,
          115,
          358,
          229,
          429,
          6,
          45,
          0,
          6
         ]
        },
        {
         "legendgroup": "1",
         "line": {
          "color": "rgba(200, 200, 200, 0.3)"
         },
         "mode": "lines",
         "showlegend": false,
         "type": "scatter",
         "x": [
          0,
          1,
          2,
          3,
          4,
          5,
          6,
          7,
          8,
          9
         ],
         "y": [
          402,
          217,
          138,
          387,
          214,
          387,
          3,
          43,
          0,
          4
         ]
        },
        {
         "legendgroup": "1",
         "line": {
          "color": "rgba(200, 200, 200, 0.3)"
         },
         "mode": "lines",
         "showlegend": false,
         "type": "scatter",
         "x": [
          0,
          1,
          2,
          3,
          4,
          5,
          6,
          7,
          8,
          9
         ],
         "y": [
          401,
          225,
          136,
          381,
          204,
          392,
          6,
          48,
          0,
          3
         ]
        },
        {
         "legendgroup": "1",
         "line": {
          "color": "rgba(200, 200, 200, 0.3)"
         },
         "mode": "lines",
         "showlegend": false,
         "type": "scatter",
         "x": [
          0,
          1,
          2,
          3,
          4,
          5,
          6,
          7,
          8,
          9
         ],
         "y": [
          379,
          219,
          122,
          371,
          222,
          438,
          1,
          45,
          0,
          0
         ]
        },
        {
         "legendgroup": "1",
         "line": {
          "color": "rgba(200, 200, 200, 0.3)"
         },
         "mode": "lines",
         "showlegend": false,
         "type": "scatter",
         "x": [
          0,
          1,
          2,
          3,
          4,
          5,
          6,
          7,
          8,
          9
         ],
         "y": [
          418,
          223,
          135,
          352,
          216,
          399,
          8,
          42,
          0,
          5
         ]
        },
        {
         "legendgroup": "1",
         "line": {
          "color": "rgba(200, 200, 200, 0.3)"
         },
         "mode": "lines",
         "showlegend": false,
         "type": "scatter",
         "x": [
          0,
          1,
          2,
          3,
          4,
          5,
          6,
          7,
          8,
          9
         ],
         "y": [
          408,
          229,
          120,
          396,
          202,
          424,
          1,
          37,
          0,
          1
         ]
        },
        {
         "legendgroup": "1",
         "line": {
          "color": "rgba(200, 200, 200, 0.3)"
         },
         "mode": "lines",
         "showlegend": false,
         "type": "scatter",
         "x": [
          0,
          1,
          2,
          3,
          4,
          5,
          6,
          7,
          8,
          9
         ],
         "y": [
          411,
          196,
          131,
          365,
          203,
          419,
          6,
          48,
          0,
          4
         ]
        },
        {
         "legendgroup": "1",
         "line": {
          "color": "rgba(200, 200, 200, 0.3)"
         },
         "mode": "lines",
         "showlegend": false,
         "type": "scatter",
         "x": [
          0,
          1,
          2,
          3,
          4,
          5,
          6,
          7,
          8,
          9
         ],
         "y": [
          410,
          212,
          127,
          401,
          216,
          420,
          4,
          35,
          0,
          3
         ]
        },
        {
         "legendgroup": "1",
         "line": {
          "color": "rgba(200, 200, 200, 0.3)"
         },
         "mode": "lines",
         "showlegend": false,
         "type": "scatter",
         "x": [
          0,
          1,
          2,
          3,
          4,
          5,
          6,
          7,
          8,
          9
         ],
         "y": [
          388,
          211,
          134,
          381,
          214,
          412,
          7,
          49,
          0,
          4
         ]
        },
        {
         "legendgroup": "1",
         "line": {
          "color": "rgba(200, 200, 200, 0.3)"
         },
         "mode": "lines",
         "showlegend": false,
         "type": "scatter",
         "x": [
          0,
          1,
          2,
          3,
          4,
          5,
          6,
          7,
          8,
          9
         ],
         "y": [
          398,
          225,
          133,
          372,
          208,
          409,
          6,
          39,
          0,
          4
         ]
        },
        {
         "legendgroup": "1",
         "line": {
          "color": "rgba(200, 200, 200, 0.3)"
         },
         "mode": "lines",
         "showlegend": false,
         "type": "scatter",
         "x": [
          0,
          1,
          2,
          3,
          4,
          5,
          6,
          7,
          8,
          9
         ],
         "y": [
          415,
          234,
          131,
          379,
          203,
          390,
          5,
          40,
          0,
          3
         ]
        },
        {
         "legendgroup": "1",
         "line": {
          "color": "rgba(200, 200, 200, 0.3)"
         },
         "mode": "lines",
         "showlegend": false,
         "type": "scatter",
         "x": [
          0,
          1,
          2,
          3,
          4,
          5,
          6,
          7,
          8,
          9
         ],
         "y": [
          420,
          218,
          132,
          386,
          197,
          398,
          7,
          48,
          0,
          6
         ]
        },
        {
         "legendgroup": "1",
         "line": {
          "color": "rgba(200, 200, 200, 0.3)"
         },
         "mode": "lines",
         "showlegend": false,
         "type": "scatter",
         "x": [
          0,
          1,
          2,
          3,
          4,
          5,
          6,
          7,
          8,
          9
         ],
         "y": [
          395,
          215,
          132,
          371,
          235,
          415,
          7,
          54,
          0,
          6
         ]
        },
        {
         "legendgroup": "1",
         "line": {
          "color": "rgba(200, 200, 200, 0.3)"
         },
         "mode": "lines",
         "showlegend": false,
         "type": "scatter",
         "x": [
          0,
          1,
          2,
          3,
          4,
          5,
          6,
          7,
          8,
          9
         ],
         "y": [
          416,
          207,
          127,
          364,
          209,
          399,
          6,
          41,
          0,
          6
         ]
        },
        {
         "legendgroup": "1",
         "line": {
          "color": "rgba(200, 200, 200, 0.3)"
         },
         "mode": "lines",
         "showlegend": false,
         "type": "scatter",
         "x": [
          0,
          1,
          2,
          3,
          4,
          5,
          6,
          7,
          8,
          9
         ],
         "y": [
          400,
          214,
          133,
          384,
          202,
          407,
          4,
          36,
          0,
          2
         ]
        },
        {
         "legendgroup": "1",
         "legendrank": 3,
         "line": {
          "color": "rgba(200, 200, 200, 0.9)"
         },
         "mode": "lines",
         "name": "Permuted",
         "type": "scatter",
         "x": [
          0,
          1,
          2,
          3,
          4,
          5,
          6,
          7,
          8,
          9
         ],
         "y": [
          400,
          214,
          133,
          384,
          202,
          407,
          4,
          36,
          0,
          2
         ]
        },
        {
         "legendgroup": "1",
         "legendrank": 1,
         "line": {
          "color": "rgba(0, 0, 0, 1)",
          "dash": "dot"
         },
         "mode": "lines",
         "name": "Truth",
         "type": "scatter",
         "x": [
          0,
          1,
          2,
          3,
          4,
          5,
          6,
          7,
          8,
          9
         ],
         "y": [
          324,
          265,
          129,
          378,
          238,
          403,
          56,
          158,
          2,
          26
         ]
        },
        {
         "legendgroup": "1",
         "legendrank": 2,
         "line": {
          "color": "rgba(255, 0, 0, 1)"
         },
         "mode": "lines",
         "name": "Test",
         "type": "scatter",
         "x": [
          0,
          1,
          2,
          3,
          4,
          5,
          6,
          7,
          8,
          9
         ],
         "y": [
          412,
          219,
          135,
          390,
          189,
          395,
          7,
          43,
          0,
          6
         ]
        }
       ],
       "layout": {
        "height": 400,
        "legend": {
         "x": 0.65,
         "xanchor": "left",
         "y": 0.95,
         "yanchor": "top"
        },
        "margin": {
         "b": 50,
         "l": 350,
         "r": 350,
         "t": 50
        },
        "paper_bgcolor": "rgba(0, 0, 0, 0)",
        "plot_bgcolor": "rgba(0, 0, 0, 0)",
        "template": {
         "data": {
          "bar": [
           {
            "error_x": {
             "color": "#2a3f5f"
            },
            "error_y": {
             "color": "#2a3f5f"
            },
            "marker": {
             "line": {
              "color": "#E5ECF6",
              "width": 0.5
             },
             "pattern": {
              "fillmode": "overlay",
              "size": 10,
              "solidity": 0.2
             }
            },
            "type": "bar"
           }
          ],
          "barpolar": [
           {
            "marker": {
             "line": {
              "color": "#E5ECF6",
              "width": 0.5
             },
             "pattern": {
              "fillmode": "overlay",
              "size": 10,
              "solidity": 0.2
             }
            },
            "type": "barpolar"
           }
          ],
          "carpet": [
           {
            "aaxis": {
             "endlinecolor": "#2a3f5f",
             "gridcolor": "white",
             "linecolor": "white",
             "minorgridcolor": "white",
             "startlinecolor": "#2a3f5f"
            },
            "baxis": {
             "endlinecolor": "#2a3f5f",
             "gridcolor": "white",
             "linecolor": "white",
             "minorgridcolor": "white",
             "startlinecolor": "#2a3f5f"
            },
            "type": "carpet"
           }
          ],
          "choropleth": [
           {
            "colorbar": {
             "outlinewidth": 0,
             "ticks": ""
            },
            "type": "choropleth"
           }
          ],
          "contour": [
           {
            "colorbar": {
             "outlinewidth": 0,
             "ticks": ""
            },
            "colorscale": [
             [
              0,
              "#0d0887"
             ],
             [
              0.1111111111111111,
              "#46039f"
             ],
             [
              0.2222222222222222,
              "#7201a8"
             ],
             [
              0.3333333333333333,
              "#9c179e"
             ],
             [
              0.4444444444444444,
              "#bd3786"
             ],
             [
              0.5555555555555556,
              "#d8576b"
             ],
             [
              0.6666666666666666,
              "#ed7953"
             ],
             [
              0.7777777777777778,
              "#fb9f3a"
             ],
             [
              0.8888888888888888,
              "#fdca26"
             ],
             [
              1,
              "#f0f921"
             ]
            ],
            "type": "contour"
           }
          ],
          "contourcarpet": [
           {
            "colorbar": {
             "outlinewidth": 0,
             "ticks": ""
            },
            "type": "contourcarpet"
           }
          ],
          "heatmap": [
           {
            "colorbar": {
             "outlinewidth": 0,
             "ticks": ""
            },
            "colorscale": [
             [
              0,
              "#0d0887"
             ],
             [
              0.1111111111111111,
              "#46039f"
             ],
             [
              0.2222222222222222,
              "#7201a8"
             ],
             [
              0.3333333333333333,
              "#9c179e"
             ],
             [
              0.4444444444444444,
              "#bd3786"
             ],
             [
              0.5555555555555556,
              "#d8576b"
             ],
             [
              0.6666666666666666,
              "#ed7953"
             ],
             [
              0.7777777777777778,
              "#fb9f3a"
             ],
             [
              0.8888888888888888,
              "#fdca26"
             ],
             [
              1,
              "#f0f921"
             ]
            ],
            "type": "heatmap"
           }
          ],
          "heatmapgl": [
           {
            "colorbar": {
             "outlinewidth": 0,
             "ticks": ""
            },
            "colorscale": [
             [
              0,
              "#0d0887"
             ],
             [
              0.1111111111111111,
              "#46039f"
             ],
             [
              0.2222222222222222,
              "#7201a8"
             ],
             [
              0.3333333333333333,
              "#9c179e"
             ],
             [
              0.4444444444444444,
              "#bd3786"
             ],
             [
              0.5555555555555556,
              "#d8576b"
             ],
             [
              0.6666666666666666,
              "#ed7953"
             ],
             [
              0.7777777777777778,
              "#fb9f3a"
             ],
             [
              0.8888888888888888,
              "#fdca26"
             ],
             [
              1,
              "#f0f921"
             ]
            ],
            "type": "heatmapgl"
           }
          ],
          "histogram": [
           {
            "marker": {
             "pattern": {
              "fillmode": "overlay",
              "size": 10,
              "solidity": 0.2
             }
            },
            "type": "histogram"
           }
          ],
          "histogram2d": [
           {
            "colorbar": {
             "outlinewidth": 0,
             "ticks": ""
            },
            "colorscale": [
             [
              0,
              "#0d0887"
             ],
             [
              0.1111111111111111,
              "#46039f"
             ],
             [
              0.2222222222222222,
              "#7201a8"
             ],
             [
              0.3333333333333333,
              "#9c179e"
             ],
             [
              0.4444444444444444,
              "#bd3786"
             ],
             [
              0.5555555555555556,
              "#d8576b"
             ],
             [
              0.6666666666666666,
              "#ed7953"
             ],
             [
              0.7777777777777778,
              "#fb9f3a"
             ],
             [
              0.8888888888888888,
              "#fdca26"
             ],
             [
              1,
              "#f0f921"
             ]
            ],
            "type": "histogram2d"
           }
          ],
          "histogram2dcontour": [
           {
            "colorbar": {
             "outlinewidth": 0,
             "ticks": ""
            },
            "colorscale": [
             [
              0,
              "#0d0887"
             ],
             [
              0.1111111111111111,
              "#46039f"
             ],
             [
              0.2222222222222222,
              "#7201a8"
             ],
             [
              0.3333333333333333,
              "#9c179e"
             ],
             [
              0.4444444444444444,
              "#bd3786"
             ],
             [
              0.5555555555555556,
              "#d8576b"
             ],
             [
              0.6666666666666666,
              "#ed7953"
             ],
             [
              0.7777777777777778,
              "#fb9f3a"
             ],
             [
              0.8888888888888888,
              "#fdca26"
             ],
             [
              1,
              "#f0f921"
             ]
            ],
            "type": "histogram2dcontour"
           }
          ],
          "mesh3d": [
           {
            "colorbar": {
             "outlinewidth": 0,
             "ticks": ""
            },
            "type": "mesh3d"
           }
          ],
          "parcoords": [
           {
            "line": {
             "colorbar": {
              "outlinewidth": 0,
              "ticks": ""
             }
            },
            "type": "parcoords"
           }
          ],
          "pie": [
           {
            "automargin": true,
            "type": "pie"
           }
          ],
          "scatter": [
           {
            "fillpattern": {
             "fillmode": "overlay",
             "size": 10,
             "solidity": 0.2
            },
            "type": "scatter"
           }
          ],
          "scatter3d": [
           {
            "line": {
             "colorbar": {
              "outlinewidth": 0,
              "ticks": ""
             }
            },
            "marker": {
             "colorbar": {
              "outlinewidth": 0,
              "ticks": ""
             }
            },
            "type": "scatter3d"
           }
          ],
          "scattercarpet": [
           {
            "marker": {
             "colorbar": {
              "outlinewidth": 0,
              "ticks": ""
             }
            },
            "type": "scattercarpet"
           }
          ],
          "scattergeo": [
           {
            "marker": {
             "colorbar": {
              "outlinewidth": 0,
              "ticks": ""
             }
            },
            "type": "scattergeo"
           }
          ],
          "scattergl": [
           {
            "marker": {
             "colorbar": {
              "outlinewidth": 0,
              "ticks": ""
             }
            },
            "type": "scattergl"
           }
          ],
          "scattermapbox": [
           {
            "marker": {
             "colorbar": {
              "outlinewidth": 0,
              "ticks": ""
             }
            },
            "type": "scattermapbox"
           }
          ],
          "scatterpolar": [
           {
            "marker": {
             "colorbar": {
              "outlinewidth": 0,
              "ticks": ""
             }
            },
            "type": "scatterpolar"
           }
          ],
          "scatterpolargl": [
           {
            "marker": {
             "colorbar": {
              "outlinewidth": 0,
              "ticks": ""
             }
            },
            "type": "scatterpolargl"
           }
          ],
          "scatterternary": [
           {
            "marker": {
             "colorbar": {
              "outlinewidth": 0,
              "ticks": ""
             }
            },
            "type": "scatterternary"
           }
          ],
          "surface": [
           {
            "colorbar": {
             "outlinewidth": 0,
             "ticks": ""
            },
            "colorscale": [
             [
              0,
              "#0d0887"
             ],
             [
              0.1111111111111111,
              "#46039f"
             ],
             [
              0.2222222222222222,
              "#7201a8"
             ],
             [
              0.3333333333333333,
              "#9c179e"
             ],
             [
              0.4444444444444444,
              "#bd3786"
             ],
             [
              0.5555555555555556,
              "#d8576b"
             ],
             [
              0.6666666666666666,
              "#ed7953"
             ],
             [
              0.7777777777777778,
              "#fb9f3a"
             ],
             [
              0.8888888888888888,
              "#fdca26"
             ],
             [
              1,
              "#f0f921"
             ]
            ],
            "type": "surface"
           }
          ],
          "table": [
           {
            "cells": {
             "fill": {
              "color": "#EBF0F8"
             },
             "line": {
              "color": "white"
             }
            },
            "header": {
             "fill": {
              "color": "#C8D4E3"
             },
             "line": {
              "color": "white"
             }
            },
            "type": "table"
           }
          ]
         },
         "layout": {
          "annotationdefaults": {
           "arrowcolor": "#2a3f5f",
           "arrowhead": 0,
           "arrowwidth": 1
          },
          "autotypenumbers": "strict",
          "coloraxis": {
           "colorbar": {
            "outlinewidth": 0,
            "ticks": ""
           }
          },
          "colorscale": {
           "diverging": [
            [
             0,
             "#8e0152"
            ],
            [
             0.1,
             "#c51b7d"
            ],
            [
             0.2,
             "#de77ae"
            ],
            [
             0.3,
             "#f1b6da"
            ],
            [
             0.4,
             "#fde0ef"
            ],
            [
             0.5,
             "#f7f7f7"
            ],
            [
             0.6,
             "#e6f5d0"
            ],
            [
             0.7,
             "#b8e186"
            ],
            [
             0.8,
             "#7fbc41"
            ],
            [
             0.9,
             "#4d9221"
            ],
            [
             1,
             "#276419"
            ]
           ],
           "sequential": [
            [
             0,
             "#0d0887"
            ],
            [
             0.1111111111111111,
             "#46039f"
            ],
            [
             0.2222222222222222,
             "#7201a8"
            ],
            [
             0.3333333333333333,
             "#9c179e"
            ],
            [
             0.4444444444444444,
             "#bd3786"
            ],
            [
             0.5555555555555556,
             "#d8576b"
            ],
            [
             0.6666666666666666,
             "#ed7953"
            ],
            [
             0.7777777777777778,
             "#fb9f3a"
            ],
            [
             0.8888888888888888,
             "#fdca26"
            ],
            [
             1,
             "#f0f921"
            ]
           ],
           "sequentialminus": [
            [
             0,
             "#0d0887"
            ],
            [
             0.1111111111111111,
             "#46039f"
            ],
            [
             0.2222222222222222,
             "#7201a8"
            ],
            [
             0.3333333333333333,
             "#9c179e"
            ],
            [
             0.4444444444444444,
             "#bd3786"
            ],
            [
             0.5555555555555556,
             "#d8576b"
            ],
            [
             0.6666666666666666,
             "#ed7953"
            ],
            [
             0.7777777777777778,
             "#fb9f3a"
            ],
            [
             0.8888888888888888,
             "#fdca26"
            ],
            [
             1,
             "#f0f921"
            ]
           ]
          },
          "colorway": [
           "#636efa",
           "#EF553B",
           "#00cc96",
           "#ab63fa",
           "#FFA15A",
           "#19d3f3",
           "#FF6692",
           "#B6E880",
           "#FF97FF",
           "#FECB52"
          ],
          "font": {
           "color": "#2a3f5f"
          },
          "geo": {
           "bgcolor": "white",
           "lakecolor": "white",
           "landcolor": "#E5ECF6",
           "showlakes": true,
           "showland": true,
           "subunitcolor": "white"
          },
          "hoverlabel": {
           "align": "left"
          },
          "hovermode": "closest",
          "mapbox": {
           "style": "light"
          },
          "paper_bgcolor": "white",
          "plot_bgcolor": "#E5ECF6",
          "polar": {
           "angularaxis": {
            "gridcolor": "white",
            "linecolor": "white",
            "ticks": ""
           },
           "bgcolor": "#E5ECF6",
           "radialaxis": {
            "gridcolor": "white",
            "linecolor": "white",
            "ticks": ""
           }
          },
          "scene": {
           "xaxis": {
            "backgroundcolor": "#E5ECF6",
            "gridcolor": "white",
            "gridwidth": 2,
            "linecolor": "white",
            "showbackground": true,
            "ticks": "",
            "zerolinecolor": "white"
           },
           "yaxis": {
            "backgroundcolor": "#E5ECF6",
            "gridcolor": "white",
            "gridwidth": 2,
            "linecolor": "white",
            "showbackground": true,
            "ticks": "",
            "zerolinecolor": "white"
           },
           "zaxis": {
            "backgroundcolor": "#E5ECF6",
            "gridcolor": "white",
            "gridwidth": 2,
            "linecolor": "white",
            "showbackground": true,
            "ticks": "",
            "zerolinecolor": "white"
           }
          },
          "shapedefaults": {
           "line": {
            "color": "#2a3f5f"
           }
          },
          "ternary": {
           "aaxis": {
            "gridcolor": "white",
            "linecolor": "white",
            "ticks": ""
           },
           "baxis": {
            "gridcolor": "white",
            "linecolor": "white",
            "ticks": ""
           },
           "bgcolor": "#E5ECF6",
           "caxis": {
            "gridcolor": "white",
            "linecolor": "white",
            "ticks": ""
           }
          },
          "title": {
           "x": 0.05
          },
          "xaxis": {
           "automargin": true,
           "gridcolor": "white",
           "linecolor": "white",
           "ticks": "",
           "title": {
            "standoff": 15
           },
           "zerolinecolor": "white",
           "zerolinewidth": 2
          },
          "yaxis": {
           "automargin": true,
           "gridcolor": "white",
           "linecolor": "white",
           "ticks": "",
           "title": {
            "standoff": 15
           },
           "zerolinecolor": "white",
           "zerolinewidth": 2
          }
         }
        },
        "xaxis": {
         "dtick": 1,
         "linecolor": "rgba(0,0,0,1)",
         "range": [
          -0.5,
          9.5
         ],
         "tick0": 0,
         "title": {
          "text": "Pair State"
         }
        },
        "yaxis": {
         "linecolor": "rgba(0,0,0,1)",
         "title": {
          "text": "N"
         }
        }
       }
      },
      "text/html": [
       "<div>                            <div id=\"b5536c82-7c64-4d28-a0b9-f3481aebba6a\" class=\"plotly-graph-div\" style=\"height:400px; width:100%;\"></div>            <script type=\"text/javascript\">                require([\"plotly\"], function(Plotly) {                    window.PLOTLYENV=window.PLOTLYENV || {};                                    if (document.getElementById(\"b5536c82-7c64-4d28-a0b9-f3481aebba6a\")) {                    Plotly.newPlot(                        \"b5536c82-7c64-4d28-a0b9-f3481aebba6a\",                        [{\"legendgroup\":\"1\",\"line\":{\"color\":\"rgba(200, 200, 200, 0.3)\"},\"mode\":\"lines\",\"showlegend\":false,\"x\":[0,1,2,3,4,5,6,7,8,9],\"y\":[408.0,230.0,139.0,401.0,192.0,381.0,3.0,43.0,0.0,2.0],\"type\":\"scatter\"},{\"legendgroup\":\"1\",\"line\":{\"color\":\"rgba(200, 200, 200, 0.3)\"},\"mode\":\"lines\",\"showlegend\":false,\"x\":[0,1,2,3,4,5,6,7,8,9],\"y\":[405.0,221.0,123.0,374.0,214.0,401.0,6.0,40.0,0.0,4.0],\"type\":\"scatter\"},{\"legendgroup\":\"1\",\"line\":{\"color\":\"rgba(200, 200, 200, 0.3)\"},\"mode\":\"lines\",\"showlegend\":false,\"x\":[0,1,2,3,4,5,6,7,8,9],\"y\":[418.0,214.0,130.0,381.0,187.0,393.0,1.0,37.0,0.0,1.0],\"type\":\"scatter\"},{\"legendgroup\":\"1\",\"line\":{\"color\":\"rgba(200, 200, 200, 0.3)\"},\"mode\":\"lines\",\"showlegend\":false,\"x\":[0,1,2,3,4,5,6,7,8,9],\"y\":[403.0,217.0,128.0,358.0,228.0,427.0,6.0,42.0,0.0,6.0],\"type\":\"scatter\"},{\"legendgroup\":\"1\",\"line\":{\"color\":\"rgba(200, 200, 200, 0.3)\"},\"mode\":\"lines\",\"showlegend\":false,\"x\":[0,1,2,3,4,5,6,7,8,9],\"y\":[387.0,229.0,124.0,381.0,205.0,387.0,4.0,49.0,0.0,3.0],\"type\":\"scatter\"},{\"legendgroup\":\"1\",\"line\":{\"color\":\"rgba(200, 200, 200, 0.3)\"},\"mode\":\"lines\",\"showlegend\":false,\"x\":[0,1,2,3,4,5,6,7,8,9],\"y\":[394.0,211.0,125.0,374.0,218.0,408.0,7.0,47.0,0.0,4.0],\"type\":\"scatter\"},{\"legendgroup\":\"1\",\"line\":{\"color\":\"rgba(200, 200, 200, 0.3)\"},\"mode\":\"lines\",\"showlegend\":false,\"x\":[0,1,2,3,4,5,6,7,8,9],\"y\":[394.0,202.0,138.0,391.0,228.0,425.0,4.0,37.0,0.0,4.0],\"type\":\"scatter\"},{\"legendgroup\":\"1\",\"line\":{\"color\":\"rgba(200, 200, 200, 0.3)\"},\"mode\":\"lines\",\"showlegend\":false,\"x\":[0,1,2,3,4,5,6,7,8,9],\"y\":[419.0,214.0,144.0,368.0,215.0,407.0,8.0,40.0,0.0,8.0],\"type\":\"scatter\"},{\"legendgroup\":\"1\",\"line\":{\"color\":\"rgba(200, 200, 200, 0.3)\"},\"mode\":\"lines\",\"showlegend\":false,\"x\":[0,1,2,3,4,5,6,7,8,9],\"y\":[403.0,214.0,137.0,371.0,209.0,419.0,3.0,48.0,0.0,3.0],\"type\":\"scatter\"},{\"legendgroup\":\"1\",\"line\":{\"color\":\"rgba(200, 200, 200, 0.3)\"},\"mode\":\"lines\",\"showlegend\":false,\"x\":[0,1,2,3,4,5,6,7,8,9],\"y\":[407.0,223.0,115.0,376.0,216.0,408.0,3.0,43.0,0.0,3.0],\"type\":\"scatter\"},{\"legendgroup\":\"1\",\"line\":{\"color\":\"rgba(200, 200, 200, 0.3)\"},\"mode\":\"lines\",\"showlegend\":false,\"x\":[0,1,2,3,4,5,6,7,8,9],\"y\":[417.0,214.0,128.0,382.0,203.0,389.0,8.0,53.0,0.0,7.0],\"type\":\"scatter\"},{\"legendgroup\":\"1\",\"line\":{\"color\":\"rgba(200, 200, 200, 0.3)\"},\"mode\":\"lines\",\"showlegend\":false,\"x\":[0,1,2,3,4,5,6,7,8,9],\"y\":[395.0,203.0,122.0,367.0,215.0,413.0,7.0,37.0,0.0,4.0],\"type\":\"scatter\"},{\"legendgroup\":\"1\",\"line\":{\"color\":\"rgba(200, 200, 200, 0.3)\"},\"mode\":\"lines\",\"showlegend\":false,\"x\":[0,1,2,3,4,5,6,7,8,9],\"y\":[402.0,226.0,129.0,382.0,206.0,404.0,6.0,40.0,0.0,5.0],\"type\":\"scatter\"},{\"legendgroup\":\"1\",\"line\":{\"color\":\"rgba(200, 200, 200, 0.3)\"},\"mode\":\"lines\",\"showlegend\":false,\"x\":[0,1,2,3,4,5,6,7,8,9],\"y\":[414.0,207.0,123.0,373.0,210.0,412.0,10.0,48.0,0.0,7.0],\"type\":\"scatter\"},{\"legendgroup\":\"1\",\"line\":{\"color\":\"rgba(200, 200, 200, 0.3)\"},\"mode\":\"lines\",\"showlegend\":false,\"x\":[0,1,2,3,4,5,6,7,8,9],\"y\":[407.0,201.0,134.0,394.0,199.0,425.0,7.0,36.0,0.0,6.0],\"type\":\"scatter\"},{\"legendgroup\":\"1\",\"line\":{\"color\":\"rgba(200, 200, 200, 0.3)\"},\"mode\":\"lines\",\"showlegend\":false,\"x\":[0,1,2,3,4,5,6,7,8,9],\"y\":[417.0,210.0,126.0,371.0,204.0,403.0,9.0,44.0,0.0,8.0],\"type\":\"scatter\"},{\"legendgroup\":\"1\",\"line\":{\"color\":\"rgba(200, 200, 200, 0.3)\"},\"mode\":\"lines\",\"showlegend\":false,\"x\":[0,1,2,3,4,5,6,7,8,9],\"y\":[402.0,214.0,127.0,371.0,193.0,408.0,8.0,45.0,0.0,4.0],\"type\":\"scatter\"},{\"legendgroup\":\"1\",\"line\":{\"color\":\"rgba(200, 200, 200, 0.3)\"},\"mode\":\"lines\",\"showlegend\":false,\"x\":[0,1,2,3,4,5,6,7,8,9],\"y\":[422.0,212.0,118.0,369.0,206.0,409.0,9.0,43.0,0.0,7.0],\"type\":\"scatter\"},{\"legendgroup\":\"1\",\"line\":{\"color\":\"rgba(200, 200, 200, 0.3)\"},\"mode\":\"lines\",\"showlegend\":false,\"x\":[0,1,2,3,4,5,6,7,8,9],\"y\":[418.0,213.0,127.0,391.0,199.0,398.0,5.0,41.0,0.0,4.0],\"type\":\"scatter\"},{\"legendgroup\":\"1\",\"line\":{\"color\":\"rgba(200, 200, 200, 0.3)\"},\"mode\":\"lines\",\"showlegend\":false,\"x\":[0,1,2,3,4,5,6,7,8,9],\"y\":[403.0,219.0,128.0,374.0,209.0,429.0,10.0,39.0,0.0,10.0],\"type\":\"scatter\"},{\"legendgroup\":\"1\",\"line\":{\"color\":\"rgba(200, 200, 200, 0.3)\"},\"mode\":\"lines\",\"showlegend\":false,\"x\":[0,1,2,3,4,5,6,7,8,9],\"y\":[404.0,222.0,121.0,369.0,204.0,424.0,5.0,37.0,0.0,5.0],\"type\":\"scatter\"},{\"legendgroup\":\"1\",\"line\":{\"color\":\"rgba(200, 200, 200, 0.3)\"},\"mode\":\"lines\",\"showlegend\":false,\"x\":[0,1,2,3,4,5,6,7,8,9],\"y\":[383.0,220.0,134.0,371.0,220.0,392.0,10.0,49.0,0.0,8.0],\"type\":\"scatter\"},{\"legendgroup\":\"1\",\"line\":{\"color\":\"rgba(200, 200, 200, 0.3)\"},\"mode\":\"lines\",\"showlegend\":false,\"x\":[0,1,2,3,4,5,6,7,8,9],\"y\":[419.0,224.0,121.0,370.0,213.0,420.0,7.0,38.0,0.0,4.0],\"type\":\"scatter\"},{\"legendgroup\":\"1\",\"line\":{\"color\":\"rgba(200, 200, 200, 0.3)\"},\"mode\":\"lines\",\"showlegend\":false,\"x\":[0,1,2,3,4,5,6,7,8,9],\"y\":[402.0,200.0,131.0,387.0,214.0,403.0,7.0,38.0,0.0,4.0],\"type\":\"scatter\"},{\"legendgroup\":\"1\",\"line\":{\"color\":\"rgba(200, 200, 200, 0.3)\"},\"mode\":\"lines\",\"showlegend\":false,\"x\":[0,1,2,3,4,5,6,7,8,9],\"y\":[415.0,201.0,133.0,381.0,203.0,411.0,8.0,47.0,0.0,5.0],\"type\":\"scatter\"},{\"legendgroup\":\"1\",\"line\":{\"color\":\"rgba(200, 200, 200, 0.3)\"},\"mode\":\"lines\",\"showlegend\":false,\"x\":[0,1,2,3,4,5,6,7,8,9],\"y\":[394.0,205.0,128.0,370.0,205.0,416.0,5.0,48.0,0.0,2.0],\"type\":\"scatter\"},{\"legendgroup\":\"1\",\"line\":{\"color\":\"rgba(200, 200, 200, 0.3)\"},\"mode\":\"lines\",\"showlegend\":false,\"x\":[0,1,2,3,4,5,6,7,8,9],\"y\":[402.0,226.0,139.0,356.0,222.0,383.0,9.0,47.0,0.0,9.0],\"type\":\"scatter\"},{\"legendgroup\":\"1\",\"line\":{\"color\":\"rgba(200, 200, 200, 0.3)\"},\"mode\":\"lines\",\"showlegend\":false,\"x\":[0,1,2,3,4,5,6,7,8,9],\"y\":[404.0,214.0,124.0,370.0,201.0,413.0,4.0,34.0,0.0,2.0],\"type\":\"scatter\"},{\"legendgroup\":\"1\",\"line\":{\"color\":\"rgba(200, 200, 200, 0.3)\"},\"mode\":\"lines\",\"showlegend\":false,\"x\":[0,1,2,3,4,5,6,7,8,9],\"y\":[416.0,217.0,139.0,376.0,204.0,412.0,7.0,38.0,0.0,4.0],\"type\":\"scatter\"},{\"legendgroup\":\"1\",\"line\":{\"color\":\"rgba(200, 200, 200, 0.3)\"},\"mode\":\"lines\",\"showlegend\":false,\"x\":[0,1,2,3,4,5,6,7,8,9],\"y\":[393.0,191.0,136.0,374.0,214.0,424.0,9.0,45.0,0.0,6.0],\"type\":\"scatter\"},{\"legendgroup\":\"1\",\"line\":{\"color\":\"rgba(200, 200, 200, 0.3)\"},\"mode\":\"lines\",\"showlegend\":false,\"x\":[0,1,2,3,4,5,6,7,8,9],\"y\":[413.0,203.0,141.0,390.0,212.0,409.0,8.0,41.0,0.0,5.0],\"type\":\"scatter\"},{\"legendgroup\":\"1\",\"line\":{\"color\":\"rgba(200, 200, 200, 0.3)\"},\"mode\":\"lines\",\"showlegend\":false,\"x\":[0,1,2,3,4,5,6,7,8,9],\"y\":[398.0,224.0,130.0,370.0,216.0,412.0,9.0,43.0,0.0,8.0],\"type\":\"scatter\"},{\"legendgroup\":\"1\",\"line\":{\"color\":\"rgba(200, 200, 200, 0.3)\"},\"mode\":\"lines\",\"showlegend\":false,\"x\":[0,1,2,3,4,5,6,7,8,9],\"y\":[413.0,217.0,118.0,370.0,221.0,418.0,7.0,36.0,0.0,4.0],\"type\":\"scatter\"},{\"legendgroup\":\"1\",\"line\":{\"color\":\"rgba(200, 200, 200, 0.3)\"},\"mode\":\"lines\",\"showlegend\":false,\"x\":[0,1,2,3,4,5,6,7,8,9],\"y\":[399.0,217.0,129.0,389.0,218.0,417.0,5.0,46.0,0.0,3.0],\"type\":\"scatter\"},{\"legendgroup\":\"1\",\"line\":{\"color\":\"rgba(200, 200, 200, 0.3)\"},\"mode\":\"lines\",\"showlegend\":false,\"x\":[0,1,2,3,4,5,6,7,8,9],\"y\":[415.0,222.0,129.0,387.0,186.0,392.0,5.0,50.0,0.0,4.0],\"type\":\"scatter\"},{\"legendgroup\":\"1\",\"line\":{\"color\":\"rgba(200, 200, 200, 0.3)\"},\"mode\":\"lines\",\"showlegend\":false,\"x\":[0,1,2,3,4,5,6,7,8,9],\"y\":[414.0,215.0,133.0,371.0,227.0,401.0,6.0,41.0,0.0,5.0],\"type\":\"scatter\"},{\"legendgroup\":\"1\",\"line\":{\"color\":\"rgba(200, 200, 200, 0.3)\"},\"mode\":\"lines\",\"showlegend\":false,\"x\":[0,1,2,3,4,5,6,7,8,9],\"y\":[400.0,222.0,132.0,388.0,207.0,409.0,6.0,37.0,0.0,5.0],\"type\":\"scatter\"},{\"legendgroup\":\"1\",\"line\":{\"color\":\"rgba(200, 200, 200, 0.3)\"},\"mode\":\"lines\",\"showlegend\":false,\"x\":[0,1,2,3,4,5,6,7,8,9],\"y\":[399.0,221.0,131.0,364.0,206.0,400.0,5.0,38.0,0.0,3.0],\"type\":\"scatter\"},{\"legendgroup\":\"1\",\"line\":{\"color\":\"rgba(200, 200, 200, 0.3)\"},\"mode\":\"lines\",\"showlegend\":false,\"x\":[0,1,2,3,4,5,6,7,8,9],\"y\":[404.0,224.0,142.0,391.0,206.0,401.0,6.0,40.0,0.0,5.0],\"type\":\"scatter\"},{\"legendgroup\":\"1\",\"line\":{\"color\":\"rgba(200, 200, 200, 0.3)\"},\"mode\":\"lines\",\"showlegend\":false,\"x\":[0,1,2,3,4,5,6,7,8,9],\"y\":[399.0,213.0,119.0,358.0,223.0,417.0,4.0,41.0,0.0,1.0],\"type\":\"scatter\"},{\"legendgroup\":\"1\",\"line\":{\"color\":\"rgba(200, 200, 200, 0.3)\"},\"mode\":\"lines\",\"showlegend\":false,\"x\":[0,1,2,3,4,5,6,7,8,9],\"y\":[430.0,225.0,136.0,383.0,194.0,373.0,2.0,41.0,0.0,0.0],\"type\":\"scatter\"},{\"legendgroup\":\"1\",\"line\":{\"color\":\"rgba(200, 200, 200, 0.3)\"},\"mode\":\"lines\",\"showlegend\":false,\"x\":[0,1,2,3,4,5,6,7,8,9],\"y\":[401.0,210.0,136.0,380.0,203.0,403.0,4.0,41.0,0.0,3.0],\"type\":\"scatter\"},{\"legendgroup\":\"1\",\"line\":{\"color\":\"rgba(200, 200, 200, 0.3)\"},\"mode\":\"lines\",\"showlegend\":false,\"x\":[0,1,2,3,4,5,6,7,8,9],\"y\":[419.0,209.0,125.0,368.0,219.0,410.0,4.0,37.0,0.0,4.0],\"type\":\"scatter\"},{\"legendgroup\":\"1\",\"line\":{\"color\":\"rgba(200, 200, 200, 0.3)\"},\"mode\":\"lines\",\"showlegend\":false,\"x\":[0,1,2,3,4,5,6,7,8,9],\"y\":[391.0,226.0,129.0,372.0,222.0,392.0,3.0,41.0,0.0,3.0],\"type\":\"scatter\"},{\"legendgroup\":\"1\",\"line\":{\"color\":\"rgba(200, 200, 200, 0.3)\"},\"mode\":\"lines\",\"showlegend\":false,\"x\":[0,1,2,3,4,5,6,7,8,9],\"y\":[415.0,221.0,133.0,364.0,222.0,394.0,8.0,41.0,0.0,5.0],\"type\":\"scatter\"},{\"legendgroup\":\"1\",\"line\":{\"color\":\"rgba(200, 200, 200, 0.3)\"},\"mode\":\"lines\",\"showlegend\":false,\"x\":[0,1,2,3,4,5,6,7,8,9],\"y\":[409.0,210.0,143.0,367.0,210.0,417.0,5.0,34.0,0.0,4.0],\"type\":\"scatter\"},{\"legendgroup\":\"1\",\"line\":{\"color\":\"rgba(200, 200, 200, 0.3)\"},\"mode\":\"lines\",\"showlegend\":false,\"x\":[0,1,2,3,4,5,6,7,8,9],\"y\":[404.0,212.0,131.0,367.0,226.0,426.0,9.0,47.0,0.0,7.0],\"type\":\"scatter\"},{\"legendgroup\":\"1\",\"line\":{\"color\":\"rgba(200, 200, 200, 0.3)\"},\"mode\":\"lines\",\"showlegend\":false,\"x\":[0,1,2,3,4,5,6,7,8,9],\"y\":[402.0,213.0,130.0,370.0,209.0,414.0,9.0,47.0,0.0,7.0],\"type\":\"scatter\"},{\"legendgroup\":\"1\",\"line\":{\"color\":\"rgba(200, 200, 200, 0.3)\"},\"mode\":\"lines\",\"showlegend\":false,\"x\":[0,1,2,3,4,5,6,7,8,9],\"y\":[416.0,197.0,127.0,372.0,200.0,436.0,5.0,40.0,0.0,5.0],\"type\":\"scatter\"},{\"legendgroup\":\"1\",\"line\":{\"color\":\"rgba(200, 200, 200, 0.3)\"},\"mode\":\"lines\",\"showlegend\":false,\"x\":[0,1,2,3,4,5,6,7,8,9],\"y\":[385.0,212.0,128.0,376.0,208.0,425.0,8.0,46.0,0.0,6.0],\"type\":\"scatter\"},{\"legendgroup\":\"1\",\"line\":{\"color\":\"rgba(200, 200, 200, 0.3)\"},\"mode\":\"lines\",\"showlegend\":false,\"x\":[0,1,2,3,4,5,6,7,8,9],\"y\":[397.0,202.0,150.0,380.0,210.0,442.0,8.0,42.0,0.0,7.0],\"type\":\"scatter\"},{\"legendgroup\":\"1\",\"line\":{\"color\":\"rgba(200, 200, 200, 0.3)\"},\"mode\":\"lines\",\"showlegend\":false,\"x\":[0,1,2,3,4,5,6,7,8,9],\"y\":[439.0,205.0,122.0,375.0,203.0,432.0,8.0,38.0,0.0,8.0],\"type\":\"scatter\"},{\"legendgroup\":\"1\",\"line\":{\"color\":\"rgba(200, 200, 200, 0.3)\"},\"mode\":\"lines\",\"showlegend\":false,\"x\":[0,1,2,3,4,5,6,7,8,9],\"y\":[381.0,205.0,137.0,381.0,208.0,405.0,6.0,48.0,0.0,5.0],\"type\":\"scatter\"},{\"legendgroup\":\"1\",\"line\":{\"color\":\"rgba(200, 200, 200, 0.3)\"},\"mode\":\"lines\",\"showlegend\":false,\"x\":[0,1,2,3,4,5,6,7,8,9],\"y\":[409.0,204.0,143.0,400.0,215.0,415.0,9.0,34.0,0.0,7.0],\"type\":\"scatter\"},{\"legendgroup\":\"1\",\"line\":{\"color\":\"rgba(200, 200, 200, 0.3)\"},\"mode\":\"lines\",\"showlegend\":false,\"x\":[0,1,2,3,4,5,6,7,8,9],\"y\":[414.0,208.0,126.0,365.0,207.0,412.0,3.0,45.0,0.0,3.0],\"type\":\"scatter\"},{\"legendgroup\":\"1\",\"line\":{\"color\":\"rgba(200, 200, 200, 0.3)\"},\"mode\":\"lines\",\"showlegend\":false,\"x\":[0,1,2,3,4,5,6,7,8,9],\"y\":[407.0,205.0,137.0,365.0,207.0,421.0,11.0,52.0,0.0,8.0],\"type\":\"scatter\"},{\"legendgroup\":\"1\",\"line\":{\"color\":\"rgba(200, 200, 200, 0.3)\"},\"mode\":\"lines\",\"showlegend\":false,\"x\":[0,1,2,3,4,5,6,7,8,9],\"y\":[419.0,210.0,130.0,358.0,215.0,401.0,3.0,39.0,0.0,2.0],\"type\":\"scatter\"},{\"legendgroup\":\"1\",\"line\":{\"color\":\"rgba(200, 200, 200, 0.3)\"},\"mode\":\"lines\",\"showlegend\":false,\"x\":[0,1,2,3,4,5,6,7,8,9],\"y\":[402.0,222.0,128.0,371.0,225.0,405.0,7.0,41.0,0.0,5.0],\"type\":\"scatter\"},{\"legendgroup\":\"1\",\"line\":{\"color\":\"rgba(200, 200, 200, 0.3)\"},\"mode\":\"lines\",\"showlegend\":false,\"x\":[0,1,2,3,4,5,6,7,8,9],\"y\":[410.0,216.0,127.0,371.0,220.0,407.0,11.0,39.0,0.0,10.0],\"type\":\"scatter\"},{\"legendgroup\":\"1\",\"line\":{\"color\":\"rgba(200, 200, 200, 0.3)\"},\"mode\":\"lines\",\"showlegend\":false,\"x\":[0,1,2,3,4,5,6,7,8,9],\"y\":[411.0,222.0,128.0,357.0,232.0,416.0,10.0,45.0,0.0,10.0],\"type\":\"scatter\"},{\"legendgroup\":\"1\",\"line\":{\"color\":\"rgba(200, 200, 200, 0.3)\"},\"mode\":\"lines\",\"showlegend\":false,\"x\":[0,1,2,3,4,5,6,7,8,9],\"y\":[395.0,201.0,133.0,395.0,208.0,429.0,3.0,46.0,0.0,3.0],\"type\":\"scatter\"},{\"legendgroup\":\"1\",\"line\":{\"color\":\"rgba(200, 200, 200, 0.3)\"},\"mode\":\"lines\",\"showlegend\":false,\"x\":[0,1,2,3,4,5,6,7,8,9],\"y\":[398.0,210.0,131.0,366.0,212.0,400.0,4.0,43.0,0.0,3.0],\"type\":\"scatter\"},{\"legendgroup\":\"1\",\"line\":{\"color\":\"rgba(200, 200, 200, 0.3)\"},\"mode\":\"lines\",\"showlegend\":false,\"x\":[0,1,2,3,4,5,6,7,8,9],\"y\":[425.0,205.0,125.0,390.0,192.0,399.0,4.0,39.0,0.0,3.0],\"type\":\"scatter\"},{\"legendgroup\":\"1\",\"line\":{\"color\":\"rgba(200, 200, 200, 0.3)\"},\"mode\":\"lines\",\"showlegend\":false,\"x\":[0,1,2,3,4,5,6,7,8,9],\"y\":[416.0,211.0,128.0,378.0,200.0,399.0,3.0,35.0,0.0,1.0],\"type\":\"scatter\"},{\"legendgroup\":\"1\",\"line\":{\"color\":\"rgba(200, 200, 200, 0.3)\"},\"mode\":\"lines\",\"showlegend\":false,\"x\":[0,1,2,3,4,5,6,7,8,9],\"y\":[407.0,212.0,121.0,376.0,217.0,414.0,6.0,43.0,0.0,6.0],\"type\":\"scatter\"},{\"legendgroup\":\"1\",\"line\":{\"color\":\"rgba(200, 200, 200, 0.3)\"},\"mode\":\"lines\",\"showlegend\":false,\"x\":[0,1,2,3,4,5,6,7,8,9],\"y\":[415.0,222.0,137.0,393.0,205.0,401.0,9.0,40.0,0.0,7.0],\"type\":\"scatter\"},{\"legendgroup\":\"1\",\"line\":{\"color\":\"rgba(200, 200, 200, 0.3)\"},\"mode\":\"lines\",\"showlegend\":false,\"x\":[0,1,2,3,4,5,6,7,8,9],\"y\":[401.0,226.0,129.0,371.0,208.0,397.0,9.0,48.0,0.0,8.0],\"type\":\"scatter\"},{\"legendgroup\":\"1\",\"line\":{\"color\":\"rgba(200, 200, 200, 0.3)\"},\"mode\":\"lines\",\"showlegend\":false,\"x\":[0,1,2,3,4,5,6,7,8,9],\"y\":[413.0,212.0,133.0,357.0,235.0,407.0,10.0,50.0,0.0,6.0],\"type\":\"scatter\"},{\"legendgroup\":\"1\",\"line\":{\"color\":\"rgba(200, 200, 200, 0.3)\"},\"mode\":\"lines\",\"showlegend\":false,\"x\":[0,1,2,3,4,5,6,7,8,9],\"y\":[411.0,204.0,115.0,379.0,211.0,407.0,5.0,39.0,0.0,2.0],\"type\":\"scatter\"},{\"legendgroup\":\"1\",\"line\":{\"color\":\"rgba(200, 200, 200, 0.3)\"},\"mode\":\"lines\",\"showlegend\":false,\"x\":[0,1,2,3,4,5,6,7,8,9],\"y\":[415.0,221.0,137.0,370.0,194.0,392.0,5.0,48.0,0.0,5.0],\"type\":\"scatter\"},{\"legendgroup\":\"1\",\"line\":{\"color\":\"rgba(200, 200, 200, 0.3)\"},\"mode\":\"lines\",\"showlegend\":false,\"x\":[0,1,2,3,4,5,6,7,8,9],\"y\":[412.0,235.0,132.0,376.0,209.0,387.0,2.0,28.0,0.0,2.0],\"type\":\"scatter\"},{\"legendgroup\":\"1\",\"line\":{\"color\":\"rgba(200, 200, 200, 0.3)\"},\"mode\":\"lines\",\"showlegend\":false,\"x\":[0,1,2,3,4,5,6,7,8,9],\"y\":[409.0,220.0,114.0,366.0,220.0,395.0,7.0,44.0,0.0,3.0],\"type\":\"scatter\"},{\"legendgroup\":\"1\",\"line\":{\"color\":\"rgba(200, 200, 200, 0.3)\"},\"mode\":\"lines\",\"showlegend\":false,\"x\":[0,1,2,3,4,5,6,7,8,9],\"y\":[402.0,211.0,131.0,387.0,207.0,429.0,8.0,43.0,0.0,7.0],\"type\":\"scatter\"},{\"legendgroup\":\"1\",\"line\":{\"color\":\"rgba(200, 200, 200, 0.3)\"},\"mode\":\"lines\",\"showlegend\":false,\"x\":[0,1,2,3,4,5,6,7,8,9],\"y\":[403.0,226.0,127.0,375.0,200.0,402.0,4.0,46.0,0.0,4.0],\"type\":\"scatter\"},{\"legendgroup\":\"1\",\"line\":{\"color\":\"rgba(200, 200, 200, 0.3)\"},\"mode\":\"lines\",\"showlegend\":false,\"x\":[0,1,2,3,4,5,6,7,8,9],\"y\":[411.0,213.0,129.0,365.0,227.0,440.0,14.0,44.0,0.0,13.0],\"type\":\"scatter\"},{\"legendgroup\":\"1\",\"line\":{\"color\":\"rgba(200, 200, 200, 0.3)\"},\"mode\":\"lines\",\"showlegend\":false,\"x\":[0,1,2,3,4,5,6,7,8,9],\"y\":[399.0,221.0,134.0,371.0,221.0,386.0,6.0,46.0,0.0,4.0],\"type\":\"scatter\"},{\"legendgroup\":\"1\",\"line\":{\"color\":\"rgba(200, 200, 200, 0.3)\"},\"mode\":\"lines\",\"showlegend\":false,\"x\":[0,1,2,3,4,5,6,7,8,9],\"y\":[398.0,211.0,127.0,385.0,194.0,418.0,8.0,51.0,0.0,6.0],\"type\":\"scatter\"},{\"legendgroup\":\"1\",\"line\":{\"color\":\"rgba(200, 200, 200, 0.3)\"},\"mode\":\"lines\",\"showlegend\":false,\"x\":[0,1,2,3,4,5,6,7,8,9],\"y\":[392.0,218.0,144.0,375.0,209.0,398.0,5.0,44.0,0.0,5.0],\"type\":\"scatter\"},{\"legendgroup\":\"1\",\"line\":{\"color\":\"rgba(200, 200, 200, 0.3)\"},\"mode\":\"lines\",\"showlegend\":false,\"x\":[0,1,2,3,4,5,6,7,8,9],\"y\":[407.0,220.0,126.0,385.0,216.0,393.0,2.0,35.0,0.0,1.0],\"type\":\"scatter\"},{\"legendgroup\":\"1\",\"line\":{\"color\":\"rgba(200, 200, 200, 0.3)\"},\"mode\":\"lines\",\"showlegend\":false,\"x\":[0,1,2,3,4,5,6,7,8,9],\"y\":[423.0,231.0,128.0,376.0,214.0,400.0,3.0,40.0,0.0,3.0],\"type\":\"scatter\"},{\"legendgroup\":\"1\",\"line\":{\"color\":\"rgba(200, 200, 200, 0.3)\"},\"mode\":\"lines\",\"showlegend\":false,\"x\":[0,1,2,3,4,5,6,7,8,9],\"y\":[419.0,212.0,124.0,378.0,204.0,398.0,5.0,40.0,0.0,5.0],\"type\":\"scatter\"},{\"legendgroup\":\"1\",\"line\":{\"color\":\"rgba(200, 200, 200, 0.3)\"},\"mode\":\"lines\",\"showlegend\":false,\"x\":[0,1,2,3,4,5,6,7,8,9],\"y\":[397.0,216.0,122.0,368.0,220.0,409.0,10.0,44.0,0.0,7.0],\"type\":\"scatter\"},{\"legendgroup\":\"1\",\"line\":{\"color\":\"rgba(200, 200, 200, 0.3)\"},\"mode\":\"lines\",\"showlegend\":false,\"x\":[0,1,2,3,4,5,6,7,8,9],\"y\":[411.0,212.0,121.0,373.0,220.0,419.0,6.0,43.0,0.0,6.0],\"type\":\"scatter\"},{\"legendgroup\":\"1\",\"line\":{\"color\":\"rgba(200, 200, 200, 0.3)\"},\"mode\":\"lines\",\"showlegend\":false,\"x\":[0,1,2,3,4,5,6,7,8,9],\"y\":[421.0,210.0,139.0,398.0,196.0,417.0,11.0,40.0,0.0,9.0],\"type\":\"scatter\"},{\"legendgroup\":\"1\",\"line\":{\"color\":\"rgba(200, 200, 200, 0.3)\"},\"mode\":\"lines\",\"showlegend\":false,\"x\":[0,1,2,3,4,5,6,7,8,9],\"y\":[407.0,213.0,130.0,366.0,209.0,410.0,6.0,48.0,0.0,3.0],\"type\":\"scatter\"},{\"legendgroup\":\"1\",\"line\":{\"color\":\"rgba(200, 200, 200, 0.3)\"},\"mode\":\"lines\",\"showlegend\":false,\"x\":[0,1,2,3,4,5,6,7,8,9],\"y\":[416.0,219.0,115.0,358.0,229.0,429.0,6.0,45.0,0.0,6.0],\"type\":\"scatter\"},{\"legendgroup\":\"1\",\"line\":{\"color\":\"rgba(200, 200, 200, 0.3)\"},\"mode\":\"lines\",\"showlegend\":false,\"x\":[0,1,2,3,4,5,6,7,8,9],\"y\":[402.0,217.0,138.0,387.0,214.0,387.0,3.0,43.0,0.0,4.0],\"type\":\"scatter\"},{\"legendgroup\":\"1\",\"line\":{\"color\":\"rgba(200, 200, 200, 0.3)\"},\"mode\":\"lines\",\"showlegend\":false,\"x\":[0,1,2,3,4,5,6,7,8,9],\"y\":[401.0,225.0,136.0,381.0,204.0,392.0,6.0,48.0,0.0,3.0],\"type\":\"scatter\"},{\"legendgroup\":\"1\",\"line\":{\"color\":\"rgba(200, 200, 200, 0.3)\"},\"mode\":\"lines\",\"showlegend\":false,\"x\":[0,1,2,3,4,5,6,7,8,9],\"y\":[379.0,219.0,122.0,371.0,222.0,438.0,1.0,45.0,0.0,0.0],\"type\":\"scatter\"},{\"legendgroup\":\"1\",\"line\":{\"color\":\"rgba(200, 200, 200, 0.3)\"},\"mode\":\"lines\",\"showlegend\":false,\"x\":[0,1,2,3,4,5,6,7,8,9],\"y\":[418.0,223.0,135.0,352.0,216.0,399.0,8.0,42.0,0.0,5.0],\"type\":\"scatter\"},{\"legendgroup\":\"1\",\"line\":{\"color\":\"rgba(200, 200, 200, 0.3)\"},\"mode\":\"lines\",\"showlegend\":false,\"x\":[0,1,2,3,4,5,6,7,8,9],\"y\":[408.0,229.0,120.0,396.0,202.0,424.0,1.0,37.0,0.0,1.0],\"type\":\"scatter\"},{\"legendgroup\":\"1\",\"line\":{\"color\":\"rgba(200, 200, 200, 0.3)\"},\"mode\":\"lines\",\"showlegend\":false,\"x\":[0,1,2,3,4,5,6,7,8,9],\"y\":[411.0,196.0,131.0,365.0,203.0,419.0,6.0,48.0,0.0,4.0],\"type\":\"scatter\"},{\"legendgroup\":\"1\",\"line\":{\"color\":\"rgba(200, 200, 200, 0.3)\"},\"mode\":\"lines\",\"showlegend\":false,\"x\":[0,1,2,3,4,5,6,7,8,9],\"y\":[410.0,212.0,127.0,401.0,216.0,420.0,4.0,35.0,0.0,3.0],\"type\":\"scatter\"},{\"legendgroup\":\"1\",\"line\":{\"color\":\"rgba(200, 200, 200, 0.3)\"},\"mode\":\"lines\",\"showlegend\":false,\"x\":[0,1,2,3,4,5,6,7,8,9],\"y\":[388.0,211.0,134.0,381.0,214.0,412.0,7.0,49.0,0.0,4.0],\"type\":\"scatter\"},{\"legendgroup\":\"1\",\"line\":{\"color\":\"rgba(200, 200, 200, 0.3)\"},\"mode\":\"lines\",\"showlegend\":false,\"x\":[0,1,2,3,4,5,6,7,8,9],\"y\":[398.0,225.0,133.0,372.0,208.0,409.0,6.0,39.0,0.0,4.0],\"type\":\"scatter\"},{\"legendgroup\":\"1\",\"line\":{\"color\":\"rgba(200, 200, 200, 0.3)\"},\"mode\":\"lines\",\"showlegend\":false,\"x\":[0,1,2,3,4,5,6,7,8,9],\"y\":[415.0,234.0,131.0,379.0,203.0,390.0,5.0,40.0,0.0,3.0],\"type\":\"scatter\"},{\"legendgroup\":\"1\",\"line\":{\"color\":\"rgba(200, 200, 200, 0.3)\"},\"mode\":\"lines\",\"showlegend\":false,\"x\":[0,1,2,3,4,5,6,7,8,9],\"y\":[420.0,218.0,132.0,386.0,197.0,398.0,7.0,48.0,0.0,6.0],\"type\":\"scatter\"},{\"legendgroup\":\"1\",\"line\":{\"color\":\"rgba(200, 200, 200, 0.3)\"},\"mode\":\"lines\",\"showlegend\":false,\"x\":[0,1,2,3,4,5,6,7,8,9],\"y\":[395.0,215.0,132.0,371.0,235.0,415.0,7.0,54.0,0.0,6.0],\"type\":\"scatter\"},{\"legendgroup\":\"1\",\"line\":{\"color\":\"rgba(200, 200, 200, 0.3)\"},\"mode\":\"lines\",\"showlegend\":false,\"x\":[0,1,2,3,4,5,6,7,8,9],\"y\":[416.0,207.0,127.0,364.0,209.0,399.0,6.0,41.0,0.0,6.0],\"type\":\"scatter\"},{\"legendgroup\":\"1\",\"line\":{\"color\":\"rgba(200, 200, 200, 0.3)\"},\"mode\":\"lines\",\"showlegend\":false,\"x\":[0,1,2,3,4,5,6,7,8,9],\"y\":[400.0,214.0,133.0,384.0,202.0,407.0,4.0,36.0,0.0,2.0],\"type\":\"scatter\"},{\"legendgroup\":\"1\",\"legendrank\":3,\"line\":{\"color\":\"rgba(200, 200, 200, 0.9)\"},\"mode\":\"lines\",\"name\":\"Permuted\",\"x\":[0,1,2,3,4,5,6,7,8,9],\"y\":[400.0,214.0,133.0,384.0,202.0,407.0,4.0,36.0,0.0,2.0],\"type\":\"scatter\"},{\"legendgroup\":\"1\",\"legendrank\":1,\"line\":{\"color\":\"rgba(0, 0, 0, 1)\",\"dash\":\"dot\"},\"mode\":\"lines\",\"name\":\"Truth\",\"x\":[0,1,2,3,4,5,6,7,8,9],\"y\":[324.0,265.0,129.0,378.0,238.0,403.0,56.0,158.0,2.0,26.0],\"type\":\"scatter\"},{\"legendgroup\":\"1\",\"legendrank\":2,\"line\":{\"color\":\"rgba(255, 0, 0, 1)\"},\"mode\":\"lines\",\"name\":\"Test\",\"x\":[0,1,2,3,4,5,6,7,8,9],\"y\":[412.0,219.0,135.0,390.0,189.0,395.0,7.0,43.0,0.0,6.0],\"type\":\"scatter\"}],                        {\"template\":{\"data\":{\"histogram2dcontour\":[{\"type\":\"histogram2dcontour\",\"colorbar\":{\"outlinewidth\":0,\"ticks\":\"\"},\"colorscale\":[[0.0,\"#0d0887\"],[0.1111111111111111,\"#46039f\"],[0.2222222222222222,\"#7201a8\"],[0.3333333333333333,\"#9c179e\"],[0.4444444444444444,\"#bd3786\"],[0.5555555555555556,\"#d8576b\"],[0.6666666666666666,\"#ed7953\"],[0.7777777777777778,\"#fb9f3a\"],[0.8888888888888888,\"#fdca26\"],[1.0,\"#f0f921\"]]}],\"choropleth\":[{\"type\":\"choropleth\",\"colorbar\":{\"outlinewidth\":0,\"ticks\":\"\"}}],\"histogram2d\":[{\"type\":\"histogram2d\",\"colorbar\":{\"outlinewidth\":0,\"ticks\":\"\"},\"colorscale\":[[0.0,\"#0d0887\"],[0.1111111111111111,\"#46039f\"],[0.2222222222222222,\"#7201a8\"],[0.3333333333333333,\"#9c179e\"],[0.4444444444444444,\"#bd3786\"],[0.5555555555555556,\"#d8576b\"],[0.6666666666666666,\"#ed7953\"],[0.7777777777777778,\"#fb9f3a\"],[0.8888888888888888,\"#fdca26\"],[1.0,\"#f0f921\"]]}],\"heatmap\":[{\"type\":\"heatmap\",\"colorbar\":{\"outlinewidth\":0,\"ticks\":\"\"},\"colorscale\":[[0.0,\"#0d0887\"],[0.1111111111111111,\"#46039f\"],[0.2222222222222222,\"#7201a8\"],[0.3333333333333333,\"#9c179e\"],[0.4444444444444444,\"#bd3786\"],[0.5555555555555556,\"#d8576b\"],[0.6666666666666666,\"#ed7953\"],[0.7777777777777778,\"#fb9f3a\"],[0.8888888888888888,\"#fdca26\"],[1.0,\"#f0f921\"]]}],\"heatmapgl\":[{\"type\":\"heatmapgl\",\"colorbar\":{\"outlinewidth\":0,\"ticks\":\"\"},\"colorscale\":[[0.0,\"#0d0887\"],[0.1111111111111111,\"#46039f\"],[0.2222222222222222,\"#7201a8\"],[0.3333333333333333,\"#9c179e\"],[0.4444444444444444,\"#bd3786\"],[0.5555555555555556,\"#d8576b\"],[0.6666666666666666,\"#ed7953\"],[0.7777777777777778,\"#fb9f3a\"],[0.8888888888888888,\"#fdca26\"],[1.0,\"#f0f921\"]]}],\"contourcarpet\":[{\"type\":\"contourcarpet\",\"colorbar\":{\"outlinewidth\":0,\"ticks\":\"\"}}],\"contour\":[{\"type\":\"contour\",\"colorbar\":{\"outlinewidth\":0,\"ticks\":\"\"},\"colorscale\":[[0.0,\"#0d0887\"],[0.1111111111111111,\"#46039f\"],[0.2222222222222222,\"#7201a8\"],[0.3333333333333333,\"#9c179e\"],[0.4444444444444444,\"#bd3786\"],[0.5555555555555556,\"#d8576b\"],[0.6666666666666666,\"#ed7953\"],[0.7777777777777778,\"#fb9f3a\"],[0.8888888888888888,\"#fdca26\"],[1.0,\"#f0f921\"]]}],\"surface\":[{\"type\":\"surface\",\"colorbar\":{\"outlinewidth\":0,\"ticks\":\"\"},\"colorscale\":[[0.0,\"#0d0887\"],[0.1111111111111111,\"#46039f\"],[0.2222222222222222,\"#7201a8\"],[0.3333333333333333,\"#9c179e\"],[0.4444444444444444,\"#bd3786\"],[0.5555555555555556,\"#d8576b\"],[0.6666666666666666,\"#ed7953\"],[0.7777777777777778,\"#fb9f3a\"],[0.8888888888888888,\"#fdca26\"],[1.0,\"#f0f921\"]]}],\"mesh3d\":[{\"type\":\"mesh3d\",\"colorbar\":{\"outlinewidth\":0,\"ticks\":\"\"}}],\"scatter\":[{\"fillpattern\":{\"fillmode\":\"overlay\",\"size\":10,\"solidity\":0.2},\"type\":\"scatter\"}],\"parcoords\":[{\"type\":\"parcoords\",\"line\":{\"colorbar\":{\"outlinewidth\":0,\"ticks\":\"\"}}}],\"scatterpolargl\":[{\"type\":\"scatterpolargl\",\"marker\":{\"colorbar\":{\"outlinewidth\":0,\"ticks\":\"\"}}}],\"bar\":[{\"error_x\":{\"color\":\"#2a3f5f\"},\"error_y\":{\"color\":\"#2a3f5f\"},\"marker\":{\"line\":{\"color\":\"#E5ECF6\",\"width\":0.5},\"pattern\":{\"fillmode\":\"overlay\",\"size\":10,\"solidity\":0.2}},\"type\":\"bar\"}],\"scattergeo\":[{\"type\":\"scattergeo\",\"marker\":{\"colorbar\":{\"outlinewidth\":0,\"ticks\":\"\"}}}],\"scatterpolar\":[{\"type\":\"scatterpolar\",\"marker\":{\"colorbar\":{\"outlinewidth\":0,\"ticks\":\"\"}}}],\"histogram\":[{\"marker\":{\"pattern\":{\"fillmode\":\"overlay\",\"size\":10,\"solidity\":0.2}},\"type\":\"histogram\"}],\"scattergl\":[{\"type\":\"scattergl\",\"marker\":{\"colorbar\":{\"outlinewidth\":0,\"ticks\":\"\"}}}],\"scatter3d\":[{\"type\":\"scatter3d\",\"line\":{\"colorbar\":{\"outlinewidth\":0,\"ticks\":\"\"}},\"marker\":{\"colorbar\":{\"outlinewidth\":0,\"ticks\":\"\"}}}],\"scattermapbox\":[{\"type\":\"scattermapbox\",\"marker\":{\"colorbar\":{\"outlinewidth\":0,\"ticks\":\"\"}}}],\"scatterternary\":[{\"type\":\"scatterternary\",\"marker\":{\"colorbar\":{\"outlinewidth\":0,\"ticks\":\"\"}}}],\"scattercarpet\":[{\"type\":\"scattercarpet\",\"marker\":{\"colorbar\":{\"outlinewidth\":0,\"ticks\":\"\"}}}],\"carpet\":[{\"aaxis\":{\"endlinecolor\":\"#2a3f5f\",\"gridcolor\":\"white\",\"linecolor\":\"white\",\"minorgridcolor\":\"white\",\"startlinecolor\":\"#2a3f5f\"},\"baxis\":{\"endlinecolor\":\"#2a3f5f\",\"gridcolor\":\"white\",\"linecolor\":\"white\",\"minorgridcolor\":\"white\",\"startlinecolor\":\"#2a3f5f\"},\"type\":\"carpet\"}],\"table\":[{\"cells\":{\"fill\":{\"color\":\"#EBF0F8\"},\"line\":{\"color\":\"white\"}},\"header\":{\"fill\":{\"color\":\"#C8D4E3\"},\"line\":{\"color\":\"white\"}},\"type\":\"table\"}],\"barpolar\":[{\"marker\":{\"line\":{\"color\":\"#E5ECF6\",\"width\":0.5},\"pattern\":{\"fillmode\":\"overlay\",\"size\":10,\"solidity\":0.2}},\"type\":\"barpolar\"}],\"pie\":[{\"automargin\":true,\"type\":\"pie\"}]},\"layout\":{\"autotypenumbers\":\"strict\",\"colorway\":[\"#636efa\",\"#EF553B\",\"#00cc96\",\"#ab63fa\",\"#FFA15A\",\"#19d3f3\",\"#FF6692\",\"#B6E880\",\"#FF97FF\",\"#FECB52\"],\"font\":{\"color\":\"#2a3f5f\"},\"hovermode\":\"closest\",\"hoverlabel\":{\"align\":\"left\"},\"paper_bgcolor\":\"white\",\"plot_bgcolor\":\"#E5ECF6\",\"polar\":{\"bgcolor\":\"#E5ECF6\",\"angularaxis\":{\"gridcolor\":\"white\",\"linecolor\":\"white\",\"ticks\":\"\"},\"radialaxis\":{\"gridcolor\":\"white\",\"linecolor\":\"white\",\"ticks\":\"\"}},\"ternary\":{\"bgcolor\":\"#E5ECF6\",\"aaxis\":{\"gridcolor\":\"white\",\"linecolor\":\"white\",\"ticks\":\"\"},\"baxis\":{\"gridcolor\":\"white\",\"linecolor\":\"white\",\"ticks\":\"\"},\"caxis\":{\"gridcolor\":\"white\",\"linecolor\":\"white\",\"ticks\":\"\"}},\"coloraxis\":{\"colorbar\":{\"outlinewidth\":0,\"ticks\":\"\"}},\"colorscale\":{\"sequential\":[[0.0,\"#0d0887\"],[0.1111111111111111,\"#46039f\"],[0.2222222222222222,\"#7201a8\"],[0.3333333333333333,\"#9c179e\"],[0.4444444444444444,\"#bd3786\"],[0.5555555555555556,\"#d8576b\"],[0.6666666666666666,\"#ed7953\"],[0.7777777777777778,\"#fb9f3a\"],[0.8888888888888888,\"#fdca26\"],[1.0,\"#f0f921\"]],\"sequentialminus\":[[0.0,\"#0d0887\"],[0.1111111111111111,\"#46039f\"],[0.2222222222222222,\"#7201a8\"],[0.3333333333333333,\"#9c179e\"],[0.4444444444444444,\"#bd3786\"],[0.5555555555555556,\"#d8576b\"],[0.6666666666666666,\"#ed7953\"],[0.7777777777777778,\"#fb9f3a\"],[0.8888888888888888,\"#fdca26\"],[1.0,\"#f0f921\"]],\"diverging\":[[0,\"#8e0152\"],[0.1,\"#c51b7d\"],[0.2,\"#de77ae\"],[0.3,\"#f1b6da\"],[0.4,\"#fde0ef\"],[0.5,\"#f7f7f7\"],[0.6,\"#e6f5d0\"],[0.7,\"#b8e186\"],[0.8,\"#7fbc41\"],[0.9,\"#4d9221\"],[1,\"#276419\"]]},\"xaxis\":{\"gridcolor\":\"white\",\"linecolor\":\"white\",\"ticks\":\"\",\"title\":{\"standoff\":15},\"zerolinecolor\":\"white\",\"automargin\":true,\"zerolinewidth\":2},\"yaxis\":{\"gridcolor\":\"white\",\"linecolor\":\"white\",\"ticks\":\"\",\"title\":{\"standoff\":15},\"zerolinecolor\":\"white\",\"automargin\":true,\"zerolinewidth\":2},\"scene\":{\"xaxis\":{\"backgroundcolor\":\"#E5ECF6\",\"gridcolor\":\"white\",\"linecolor\":\"white\",\"showbackground\":true,\"ticks\":\"\",\"zerolinecolor\":\"white\",\"gridwidth\":2},\"yaxis\":{\"backgroundcolor\":\"#E5ECF6\",\"gridcolor\":\"white\",\"linecolor\":\"white\",\"showbackground\":true,\"ticks\":\"\",\"zerolinecolor\":\"white\",\"gridwidth\":2},\"zaxis\":{\"backgroundcolor\":\"#E5ECF6\",\"gridcolor\":\"white\",\"linecolor\":\"white\",\"showbackground\":true,\"ticks\":\"\",\"zerolinecolor\":\"white\",\"gridwidth\":2}},\"shapedefaults\":{\"line\":{\"color\":\"#2a3f5f\"}},\"annotationdefaults\":{\"arrowcolor\":\"#2a3f5f\",\"arrowhead\":0,\"arrowwidth\":1},\"geo\":{\"bgcolor\":\"white\",\"landcolor\":\"#E5ECF6\",\"subunitcolor\":\"white\",\"showland\":true,\"showlakes\":true,\"lakecolor\":\"white\"},\"title\":{\"x\":0.05},\"mapbox\":{\"style\":\"light\"}}},\"xaxis\":{\"title\":{\"text\":\"Pair State\"},\"linecolor\":\"rgba(0,0,0,1)\",\"range\":[-0.5,9.5],\"tick0\":0,\"dtick\":1},\"yaxis\":{\"title\":{\"text\":\"N\"},\"linecolor\":\"rgba(0,0,0,1)\"},\"legend\":{\"yanchor\":\"top\",\"y\":0.95,\"xanchor\":\"left\",\"x\":0.65},\"margin\":{\"l\":350,\"r\":350,\"t\":50,\"b\":50},\"paper_bgcolor\":\"rgba(0, 0, 0, 0)\",\"plot_bgcolor\":\"rgba(0, 0, 0, 0)\",\"height\":400},                        {\"responsive\": true}                    ).then(function(){\n",
       "                            \n",
       "var gd = document.getElementById('b5536c82-7c64-4d28-a0b9-f3481aebba6a');\n",
       "var x = new MutationObserver(function (mutations, observer) {{\n",
       "        var display = window.getComputedStyle(gd).display;\n",
       "        if (!display || display === 'none') {{\n",
       "            console.log([gd, 'removed!']);\n",
       "            Plotly.purge(gd);\n",
       "            observer.disconnect();\n",
       "        }}\n",
       "}});\n",
       "\n",
       "// Listen for the removal of the full notebook cells\n",
       "var notebookContainer = gd.closest('#notebook-container');\n",
       "if (notebookContainer) {{\n",
       "    x.observe(notebookContainer, {childList: true});\n",
       "}}\n",
       "\n",
       "// Listen for the clearing of the current output cell\n",
       "var outputEl = gd.closest('.output');\n",
       "if (outputEl) {{\n",
       "    x.observe(outputEl, {childList: true});\n",
       "}}\n",
       "\n",
       "                        })                };                });            </script>        </div>"
      ]
     },
     "metadata": {},
     "output_type": "display_data"
    }
   ],
   "source": [
    "fig = go.Figure()\n",
    "\n",
    "for i in np.arange(np.shape(sf)[0]):\n",
    "    dfs = pd.read_csv(sf[i])\n",
    "    fig.add_trace(go.Scatter(x=x,y=dfs.prediction,\n",
    "                             mode='lines',\n",
    "                             line=dict(color='rgba(200, 200, 200, 0.3)'),\n",
    "                             showlegend=False,\n",
    "                             legendgroup=1,\n",
    "                            )\n",
    "                 )\n",
    "    \n",
    "fig.add_trace(go.Scatter(x=x,y=dfs.prediction,\n",
    "                         name='Permuted',\n",
    "                         mode='lines',\n",
    "                         line=dict(color='rgba(200, 200, 200, 0.9)'),\n",
    "                         legendrank=3,\n",
    "                         legendgroup=1\n",
    "                        )\n",
    "             )    \n",
    "fig.add_trace(go.Scatter(x=x,y=df.ground_truth,\n",
    "                         name='Truth',\n",
    "                         mode='lines',\n",
    "                         line=dict(color='rgba(0, 0, 0, 1)',dash='dot'),\n",
    "                         legendrank=1,\n",
    "                         legendgroup=1\n",
    "                        )\n",
    "             )\n",
    "fig.add_trace(go.Scatter(x=x,y=df.prediction,\n",
    "                         name='Test',\n",
    "                         mode='lines',\n",
    "                         line=dict(color='rgba(255, 0, 0, 1)'),\n",
    "                         legendrank=2,\n",
    "                         legendgroup=1\n",
    "                        )\n",
    "             )\n",
    "\n",
    "    \n",
    "#fig.update_scenes(xaxis_visible=False, yaxis_visible=False,zaxis_visible=False)\n",
    "fig.update_xaxes(linecolor='rgba(0,0,0,1)',\n",
    "                 range=[-0.5,9.5],\n",
    "                 tick0=0,\n",
    "                 dtick=1,\n",
    "                 title_text='Pair State'\n",
    "                )\n",
    "fig.update_yaxes(linecolor='rgba(0,0,0,1)',\n",
    "                 title_text='N'\n",
    "                )\n",
    "fig.update_layout(\n",
    "    paper_bgcolor='rgba(0, 0, 0, 0)',\n",
    "    plot_bgcolor='rgba(0, 0, 0, 0)',\n",
    "    legend=dict(yanchor=\"top\", y=0.95, xanchor=\"left\", x=0.65),\n",
    "    margin=dict(l=350, r=350, t=50, b=50),\n",
    "    height=400\n",
    ")"
   ]
  },
  {
   "cell_type": "code",
   "execution_count": 301,
   "id": "7f722d83",
   "metadata": {},
   "outputs": [
    {
     "data": {
      "application/vnd.plotly.v1+json": {
       "config": {
        "plotlyServerURL": "https://plot.ly"
       },
       "data": [
        {
         "marker": {
          "color": "rgba(225,225,225,1)",
          "line": {
           "color": "rgba(0,0,0,1)",
           "width": 2
          },
          "size": 10
         },
         "mode": "markers",
         "name": "Permuted",
         "type": "scatter",
         "x": [
          -0.04243452750950173,
          -0.030519875936038533,
          0.021257073514206,
          -0.016730982679852194,
          0.035441784591785305,
          -0.025836528937083093,
          -0.044831833915443924,
          -0.04925044927994853,
          -0.01032757164469611,
          -0.04433185230641406,
          0.0488602314954973,
          0.006747316241308379,
          -0.02321954257061808,
          0.03580835761467853,
          -0.02877779390326897,
          0.04422466447171153,
          -0.04063658000319237,
          -0.00030754497367475875,
          0.03782161604265642,
          -0.04071781773518271,
          0.014682935819847254,
          -0.04374644277433759,
          -0.005894306089307223,
          0.006441996300224032,
          0.03231762884200767,
          0.00867573522565531,
          -0.027115329506389507,
          0.03130796580632399,
          -0.024133714780385597,
          0.008611732697376764,
          -0.012503541329051196,
          -0.031319718944045685,
          0.015931840065848052,
          0.0003275011562014693,
          0.01725840519671186,
          0.032060098071958254,
          -0.03999213048694136,
          -0.04863854868459069,
          -0.003356871394145068,
          -0.00990106216803821,
          -0.021432435041868717,
          0.016820573348557563,
          -0.040110168529969625,
          0.01651100842501395,
          0.043142857687461386,
          -0.02318916640933405,
          -0.03266507747741003,
          -0.03806755228462402,
          0.014053872096056214,
          0.005705750483496849,
          -0.008597596355753113,
          -0.04880427335883197,
          0.013182715068043721,
          0.01194747871445477,
          -0.0027059692692881984,
          -0.04420977663671728,
          -0.03216409626762942,
          0.025400676276411488,
          0.04894319564364134,
          -0.005962021756253835,
          0.03683009161300553,
          -0.024196495894319117,
          -0.006912565153138317,
          0.04859939327034929,
          -2.3561461887935953e-05,
          -0.017530506913818987,
          -0.002389774355792837,
          0.00832129847053499,
          0.008432507232061535,
          -0.04943431207818899,
          0.019198844963485617,
          0.026299508968184476,
          0.016589846629045113,
          0.029712250074762275,
          -0.04608300296140641,
          0.03870924030960647,
          -0.003572183704327145,
          0.014704038053267476,
          0.0361085534961066,
          0.04360335960143477,
          0.027619402546018232,
          -0.014974340432969836,
          -0.014917271549762447,
          0.031128520176705657,
          -0.005851389010706684,
          0.004533383355601106,
          -0.04647022488126304,
          0.03182656844637363,
          -0.01863323176184465,
          0.025786594526817988,
          0.03882580048231671,
          0.03294185664408665,
          0.029037583961918287,
          0.039733879321464244,
          0.03903970400408449,
          -0.04294075475213887,
          0.03486656976598693,
          0.03388019770411636,
          -0.036226221658762915,
          -0.03935052642470807
         ],
         "y": [
          234.81247837370142,
          196.56245826708619,
          257.0548579583743,
          235.70787004255925,
          195.66144229254778,
          137.06275934767984,
          257.46999825222355,
          197.02715548878027,
          240.91077186377532,
          232.73826501029004,
          145.88214421237439,
          220.42844644010898,
          174.33387507882682,
          178.2596420954558,
          231.89760671468775,
          211.33338590956234,
          224.71604304098986,
          167.59922434188053,
          210.89428631425747,
          287.1530950555818,
          249.00783120215317,
          294.885740584383,
          225.46707076644253,
          231.8216987255507,
          183.98940186869459,
          205.9953882978937,
          172.91240556998795,
          142.97936914114567,
          233.38573221171856,
          244.3163932281254,
          221.93873028383308,
          239.51784902173785,
          279.5821882738598,
          207.79148201983642,
          197.8560082484229,
          223.6611276015571,
          250.92787808452053,
          199.18458775718568,
          225.0399964450764,
          262.9745234808878,
          190.8177140624004,
          151.18663962136338,
          251.86941060795772,
          221.51410790286022,
          305.90031055884856,
          135.37725067381152,
          196.43955813430247,
          200.73963235993037,
          255.25634174296238,
          244.69021230936067,
          230.98766200816874,
          148.9580477852741,
          260.94807912686383,
          227.40822324621422,
          182.0140104497453,
          237.34953128245272,
          243.30536368933588,
          265.65221625275404,
          200.86537780314455,
          243.83375484128527,
          290.5346795134791,
          232.60309542222348,
          211.01729786915575,
          148.21841990791833,
          134.14357979418918,
          206.16401237849442,
          171.5045188909027,
          260.98026745330765,
          214.95371594834083,
          153.0493384500567,
          244.6830603045499,
          303.92828101379445,
          246.11338850212925,
          159.95811951882905,
          147.75486455612892,
          151.86046226717474,
          210.99289087549846,
          239.48924819289905,
          247.52494823754634,
          277.697317235871,
          129.92959632046887,
          254.30808087829217,
          263.6198019876352,
          204.69342930343416,
          205.95606327564138,
          247.90098829976455,
          234.70129952771885,
          225.32243563391552,
          244.28774017539234,
          187.23621444581707,
          218.3494904963142,
          214.1226284165221,
          266.47382610680546,
          230.29524528309307,
          200.95422364309738,
          164.70276257549537,
          150.8353406864585,
          191.3052534563544,
          214.95162246421867,
          190.87404223728277
         ]
        },
        {
         "marker": {
          "color": "rgba(255,0,0,1)",
          "line": {
           "color": "rgba(0,0,0,1)",
           "width": 2
          },
          "size": 10
         },
         "mode": "markers",
         "name": "Test",
         "type": "scatter",
         "x": [
          0
         ],
         "y": [
          53.4181617055473
         ]
        }
       ],
       "layout": {
        "height": 400,
        "margin": {
         "b": 50,
         "l": 450,
         "r": 450,
         "t": 50
        },
        "paper_bgcolor": "rgba(0, 0, 0, 0)",
        "plot_bgcolor": "rgba(0, 0, 0, 0)",
        "template": {
         "data": {
          "bar": [
           {
            "error_x": {
             "color": "#2a3f5f"
            },
            "error_y": {
             "color": "#2a3f5f"
            },
            "marker": {
             "line": {
              "color": "#E5ECF6",
              "width": 0.5
             },
             "pattern": {
              "fillmode": "overlay",
              "size": 10,
              "solidity": 0.2
             }
            },
            "type": "bar"
           }
          ],
          "barpolar": [
           {
            "marker": {
             "line": {
              "color": "#E5ECF6",
              "width": 0.5
             },
             "pattern": {
              "fillmode": "overlay",
              "size": 10,
              "solidity": 0.2
             }
            },
            "type": "barpolar"
           }
          ],
          "carpet": [
           {
            "aaxis": {
             "endlinecolor": "#2a3f5f",
             "gridcolor": "white",
             "linecolor": "white",
             "minorgridcolor": "white",
             "startlinecolor": "#2a3f5f"
            },
            "baxis": {
             "endlinecolor": "#2a3f5f",
             "gridcolor": "white",
             "linecolor": "white",
             "minorgridcolor": "white",
             "startlinecolor": "#2a3f5f"
            },
            "type": "carpet"
           }
          ],
          "choropleth": [
           {
            "colorbar": {
             "outlinewidth": 0,
             "ticks": ""
            },
            "type": "choropleth"
           }
          ],
          "contour": [
           {
            "colorbar": {
             "outlinewidth": 0,
             "ticks": ""
            },
            "colorscale": [
             [
              0,
              "#0d0887"
             ],
             [
              0.1111111111111111,
              "#46039f"
             ],
             [
              0.2222222222222222,
              "#7201a8"
             ],
             [
              0.3333333333333333,
              "#9c179e"
             ],
             [
              0.4444444444444444,
              "#bd3786"
             ],
             [
              0.5555555555555556,
              "#d8576b"
             ],
             [
              0.6666666666666666,
              "#ed7953"
             ],
             [
              0.7777777777777778,
              "#fb9f3a"
             ],
             [
              0.8888888888888888,
              "#fdca26"
             ],
             [
              1,
              "#f0f921"
             ]
            ],
            "type": "contour"
           }
          ],
          "contourcarpet": [
           {
            "colorbar": {
             "outlinewidth": 0,
             "ticks": ""
            },
            "type": "contourcarpet"
           }
          ],
          "heatmap": [
           {
            "colorbar": {
             "outlinewidth": 0,
             "ticks": ""
            },
            "colorscale": [
             [
              0,
              "#0d0887"
             ],
             [
              0.1111111111111111,
              "#46039f"
             ],
             [
              0.2222222222222222,
              "#7201a8"
             ],
             [
              0.3333333333333333,
              "#9c179e"
             ],
             [
              0.4444444444444444,
              "#bd3786"
             ],
             [
              0.5555555555555556,
              "#d8576b"
             ],
             [
              0.6666666666666666,
              "#ed7953"
             ],
             [
              0.7777777777777778,
              "#fb9f3a"
             ],
             [
              0.8888888888888888,
              "#fdca26"
             ],
             [
              1,
              "#f0f921"
             ]
            ],
            "type": "heatmap"
           }
          ],
          "heatmapgl": [
           {
            "colorbar": {
             "outlinewidth": 0,
             "ticks": ""
            },
            "colorscale": [
             [
              0,
              "#0d0887"
             ],
             [
              0.1111111111111111,
              "#46039f"
             ],
             [
              0.2222222222222222,
              "#7201a8"
             ],
             [
              0.3333333333333333,
              "#9c179e"
             ],
             [
              0.4444444444444444,
              "#bd3786"
             ],
             [
              0.5555555555555556,
              "#d8576b"
             ],
             [
              0.6666666666666666,
              "#ed7953"
             ],
             [
              0.7777777777777778,
              "#fb9f3a"
             ],
             [
              0.8888888888888888,
              "#fdca26"
             ],
             [
              1,
              "#f0f921"
             ]
            ],
            "type": "heatmapgl"
           }
          ],
          "histogram": [
           {
            "marker": {
             "pattern": {
              "fillmode": "overlay",
              "size": 10,
              "solidity": 0.2
             }
            },
            "type": "histogram"
           }
          ],
          "histogram2d": [
           {
            "colorbar": {
             "outlinewidth": 0,
             "ticks": ""
            },
            "colorscale": [
             [
              0,
              "#0d0887"
             ],
             [
              0.1111111111111111,
              "#46039f"
             ],
             [
              0.2222222222222222,
              "#7201a8"
             ],
             [
              0.3333333333333333,
              "#9c179e"
             ],
             [
              0.4444444444444444,
              "#bd3786"
             ],
             [
              0.5555555555555556,
              "#d8576b"
             ],
             [
              0.6666666666666666,
              "#ed7953"
             ],
             [
              0.7777777777777778,
              "#fb9f3a"
             ],
             [
              0.8888888888888888,
              "#fdca26"
             ],
             [
              1,
              "#f0f921"
             ]
            ],
            "type": "histogram2d"
           }
          ],
          "histogram2dcontour": [
           {
            "colorbar": {
             "outlinewidth": 0,
             "ticks": ""
            },
            "colorscale": [
             [
              0,
              "#0d0887"
             ],
             [
              0.1111111111111111,
              "#46039f"
             ],
             [
              0.2222222222222222,
              "#7201a8"
             ],
             [
              0.3333333333333333,
              "#9c179e"
             ],
             [
              0.4444444444444444,
              "#bd3786"
             ],
             [
              0.5555555555555556,
              "#d8576b"
             ],
             [
              0.6666666666666666,
              "#ed7953"
             ],
             [
              0.7777777777777778,
              "#fb9f3a"
             ],
             [
              0.8888888888888888,
              "#fdca26"
             ],
             [
              1,
              "#f0f921"
             ]
            ],
            "type": "histogram2dcontour"
           }
          ],
          "mesh3d": [
           {
            "colorbar": {
             "outlinewidth": 0,
             "ticks": ""
            },
            "type": "mesh3d"
           }
          ],
          "parcoords": [
           {
            "line": {
             "colorbar": {
              "outlinewidth": 0,
              "ticks": ""
             }
            },
            "type": "parcoords"
           }
          ],
          "pie": [
           {
            "automargin": true,
            "type": "pie"
           }
          ],
          "scatter": [
           {
            "fillpattern": {
             "fillmode": "overlay",
             "size": 10,
             "solidity": 0.2
            },
            "type": "scatter"
           }
          ],
          "scatter3d": [
           {
            "line": {
             "colorbar": {
              "outlinewidth": 0,
              "ticks": ""
             }
            },
            "marker": {
             "colorbar": {
              "outlinewidth": 0,
              "ticks": ""
             }
            },
            "type": "scatter3d"
           }
          ],
          "scattercarpet": [
           {
            "marker": {
             "colorbar": {
              "outlinewidth": 0,
              "ticks": ""
             }
            },
            "type": "scattercarpet"
           }
          ],
          "scattergeo": [
           {
            "marker": {
             "colorbar": {
              "outlinewidth": 0,
              "ticks": ""
             }
            },
            "type": "scattergeo"
           }
          ],
          "scattergl": [
           {
            "marker": {
             "colorbar": {
              "outlinewidth": 0,
              "ticks": ""
             }
            },
            "type": "scattergl"
           }
          ],
          "scattermapbox": [
           {
            "marker": {
             "colorbar": {
              "outlinewidth": 0,
              "ticks": ""
             }
            },
            "type": "scattermapbox"
           }
          ],
          "scatterpolar": [
           {
            "marker": {
             "colorbar": {
              "outlinewidth": 0,
              "ticks": ""
             }
            },
            "type": "scatterpolar"
           }
          ],
          "scatterpolargl": [
           {
            "marker": {
             "colorbar": {
              "outlinewidth": 0,
              "ticks": ""
             }
            },
            "type": "scatterpolargl"
           }
          ],
          "scatterternary": [
           {
            "marker": {
             "colorbar": {
              "outlinewidth": 0,
              "ticks": ""
             }
            },
            "type": "scatterternary"
           }
          ],
          "surface": [
           {
            "colorbar": {
             "outlinewidth": 0,
             "ticks": ""
            },
            "colorscale": [
             [
              0,
              "#0d0887"
             ],
             [
              0.1111111111111111,
              "#46039f"
             ],
             [
              0.2222222222222222,
              "#7201a8"
             ],
             [
              0.3333333333333333,
              "#9c179e"
             ],
             [
              0.4444444444444444,
              "#bd3786"
             ],
             [
              0.5555555555555556,
              "#d8576b"
             ],
             [
              0.6666666666666666,
              "#ed7953"
             ],
             [
              0.7777777777777778,
              "#fb9f3a"
             ],
             [
              0.8888888888888888,
              "#fdca26"
             ],
             [
              1,
              "#f0f921"
             ]
            ],
            "type": "surface"
           }
          ],
          "table": [
           {
            "cells": {
             "fill": {
              "color": "#EBF0F8"
             },
             "line": {
              "color": "white"
             }
            },
            "header": {
             "fill": {
              "color": "#C8D4E3"
             },
             "line": {
              "color": "white"
             }
            },
            "type": "table"
           }
          ]
         },
         "layout": {
          "annotationdefaults": {
           "arrowcolor": "#2a3f5f",
           "arrowhead": 0,
           "arrowwidth": 1
          },
          "autotypenumbers": "strict",
          "coloraxis": {
           "colorbar": {
            "outlinewidth": 0,
            "ticks": ""
           }
          },
          "colorscale": {
           "diverging": [
            [
             0,
             "#8e0152"
            ],
            [
             0.1,
             "#c51b7d"
            ],
            [
             0.2,
             "#de77ae"
            ],
            [
             0.3,
             "#f1b6da"
            ],
            [
             0.4,
             "#fde0ef"
            ],
            [
             0.5,
             "#f7f7f7"
            ],
            [
             0.6,
             "#e6f5d0"
            ],
            [
             0.7,
             "#b8e186"
            ],
            [
             0.8,
             "#7fbc41"
            ],
            [
             0.9,
             "#4d9221"
            ],
            [
             1,
             "#276419"
            ]
           ],
           "sequential": [
            [
             0,
             "#0d0887"
            ],
            [
             0.1111111111111111,
             "#46039f"
            ],
            [
             0.2222222222222222,
             "#7201a8"
            ],
            [
             0.3333333333333333,
             "#9c179e"
            ],
            [
             0.4444444444444444,
             "#bd3786"
            ],
            [
             0.5555555555555556,
             "#d8576b"
            ],
            [
             0.6666666666666666,
             "#ed7953"
            ],
            [
             0.7777777777777778,
             "#fb9f3a"
            ],
            [
             0.8888888888888888,
             "#fdca26"
            ],
            [
             1,
             "#f0f921"
            ]
           ],
           "sequentialminus": [
            [
             0,
             "#0d0887"
            ],
            [
             0.1111111111111111,
             "#46039f"
            ],
            [
             0.2222222222222222,
             "#7201a8"
            ],
            [
             0.3333333333333333,
             "#9c179e"
            ],
            [
             0.4444444444444444,
             "#bd3786"
            ],
            [
             0.5555555555555556,
             "#d8576b"
            ],
            [
             0.6666666666666666,
             "#ed7953"
            ],
            [
             0.7777777777777778,
             "#fb9f3a"
            ],
            [
             0.8888888888888888,
             "#fdca26"
            ],
            [
             1,
             "#f0f921"
            ]
           ]
          },
          "colorway": [
           "#636efa",
           "#EF553B",
           "#00cc96",
           "#ab63fa",
           "#FFA15A",
           "#19d3f3",
           "#FF6692",
           "#B6E880",
           "#FF97FF",
           "#FECB52"
          ],
          "font": {
           "color": "#2a3f5f"
          },
          "geo": {
           "bgcolor": "white",
           "lakecolor": "white",
           "landcolor": "#E5ECF6",
           "showlakes": true,
           "showland": true,
           "subunitcolor": "white"
          },
          "hoverlabel": {
           "align": "left"
          },
          "hovermode": "closest",
          "mapbox": {
           "style": "light"
          },
          "paper_bgcolor": "white",
          "plot_bgcolor": "#E5ECF6",
          "polar": {
           "angularaxis": {
            "gridcolor": "white",
            "linecolor": "white",
            "ticks": ""
           },
           "bgcolor": "#E5ECF6",
           "radialaxis": {
            "gridcolor": "white",
            "linecolor": "white",
            "ticks": ""
           }
          },
          "scene": {
           "xaxis": {
            "backgroundcolor": "#E5ECF6",
            "gridcolor": "white",
            "gridwidth": 2,
            "linecolor": "white",
            "showbackground": true,
            "ticks": "",
            "zerolinecolor": "white"
           },
           "yaxis": {
            "backgroundcolor": "#E5ECF6",
            "gridcolor": "white",
            "gridwidth": 2,
            "linecolor": "white",
            "showbackground": true,
            "ticks": "",
            "zerolinecolor": "white"
           },
           "zaxis": {
            "backgroundcolor": "#E5ECF6",
            "gridcolor": "white",
            "gridwidth": 2,
            "linecolor": "white",
            "showbackground": true,
            "ticks": "",
            "zerolinecolor": "white"
           }
          },
          "shapedefaults": {
           "line": {
            "color": "#2a3f5f"
           }
          },
          "ternary": {
           "aaxis": {
            "gridcolor": "white",
            "linecolor": "white",
            "ticks": ""
           },
           "baxis": {
            "gridcolor": "white",
            "linecolor": "white",
            "ticks": ""
           },
           "bgcolor": "#E5ECF6",
           "caxis": {
            "gridcolor": "white",
            "linecolor": "white",
            "ticks": ""
           }
          },
          "title": {
           "x": 0.05
          },
          "xaxis": {
           "automargin": true,
           "gridcolor": "white",
           "linecolor": "white",
           "ticks": "",
           "title": {
            "standoff": 15
           },
           "zerolinecolor": "white",
           "zerolinewidth": 2
          },
          "yaxis": {
           "automargin": true,
           "gridcolor": "white",
           "linecolor": "white",
           "ticks": "",
           "title": {
            "standoff": 15
           },
           "zerolinecolor": "white",
           "zerolinewidth": 2
          }
         }
        },
        "xaxis": {
         "linecolor": "rgba(0,0,0,1)",
         "range": [
          -0.5,
          0.5
         ],
         "showticklabels": false,
         "title": {
          "text": "Predictions"
         }
        },
        "yaxis": {
         "linecolor": "rgba(0,0,0,1)",
         "title": {
          "text": "Root Mean Square Error"
         }
        }
       }
      },
      "text/html": [
       "<div>                            <div id=\"fe0b9bdd-26da-4034-813c-236b70908cdc\" class=\"plotly-graph-div\" style=\"height:400px; width:100%;\"></div>            <script type=\"text/javascript\">                require([\"plotly\"], function(Plotly) {                    window.PLOTLYENV=window.PLOTLYENV || {};                                    if (document.getElementById(\"fe0b9bdd-26da-4034-813c-236b70908cdc\")) {                    Plotly.newPlot(                        \"fe0b9bdd-26da-4034-813c-236b70908cdc\",                        [{\"marker\":{\"color\":\"rgba(225,225,225,1)\",\"line\":{\"color\":\"rgba(0,0,0,1)\",\"width\":2},\"size\":10},\"mode\":\"markers\",\"name\":\"Permuted\",\"x\":[-0.04243452750950173,-0.030519875936038533,0.021257073514206,-0.016730982679852194,0.035441784591785305,-0.025836528937083093,-0.044831833915443924,-0.04925044927994853,-0.01032757164469611,-0.04433185230641406,0.0488602314954973,0.006747316241308379,-0.02321954257061808,0.03580835761467853,-0.02877779390326897,0.04422466447171153,-0.04063658000319237,-0.00030754497367475875,0.03782161604265642,-0.04071781773518271,0.014682935819847254,-0.04374644277433759,-0.005894306089307223,0.006441996300224032,0.03231762884200767,0.00867573522565531,-0.027115329506389507,0.03130796580632399,-0.024133714780385597,0.008611732697376764,-0.012503541329051196,-0.031319718944045685,0.015931840065848052,0.0003275011562014693,0.01725840519671186,0.032060098071958254,-0.03999213048694136,-0.04863854868459069,-0.003356871394145068,-0.00990106216803821,-0.021432435041868717,0.016820573348557563,-0.040110168529969625,0.01651100842501395,0.043142857687461386,-0.02318916640933405,-0.03266507747741003,-0.03806755228462402,0.014053872096056214,0.005705750483496849,-0.008597596355753113,-0.04880427335883197,0.013182715068043721,0.01194747871445477,-0.0027059692692881984,-0.04420977663671728,-0.03216409626762942,0.025400676276411488,0.04894319564364134,-0.005962021756253835,0.03683009161300553,-0.024196495894319117,-0.006912565153138317,0.04859939327034929,-2.3561461887935953e-05,-0.017530506913818987,-0.002389774355792837,0.00832129847053499,0.008432507232061535,-0.04943431207818899,0.019198844963485617,0.026299508968184476,0.016589846629045113,0.029712250074762275,-0.04608300296140641,0.03870924030960647,-0.003572183704327145,0.014704038053267476,0.0361085534961066,0.04360335960143477,0.027619402546018232,-0.014974340432969836,-0.014917271549762447,0.031128520176705657,-0.005851389010706684,0.004533383355601106,-0.04647022488126304,0.03182656844637363,-0.01863323176184465,0.025786594526817988,0.03882580048231671,0.03294185664408665,0.029037583961918287,0.039733879321464244,0.03903970400408449,-0.04294075475213887,0.03486656976598693,0.03388019770411636,-0.036226221658762915,-0.03935052642470807],\"y\":[234.81247837370142,196.56245826708619,257.0548579583743,235.70787004255925,195.66144229254778,137.06275934767984,257.46999825222355,197.02715548878027,240.91077186377532,232.73826501029004,145.88214421237439,220.42844644010898,174.33387507882682,178.2596420954558,231.89760671468775,211.33338590956234,224.71604304098986,167.59922434188053,210.89428631425747,287.1530950555818,249.00783120215317,294.885740584383,225.46707076644253,231.8216987255507,183.98940186869459,205.9953882978937,172.91240556998795,142.97936914114567,233.38573221171856,244.3163932281254,221.93873028383308,239.51784902173785,279.5821882738598,207.79148201983642,197.8560082484229,223.6611276015571,250.92787808452053,199.18458775718568,225.0399964450764,262.9745234808878,190.8177140624004,151.18663962136338,251.86941060795772,221.51410790286022,305.90031055884856,135.37725067381152,196.43955813430247,200.73963235993037,255.25634174296238,244.69021230936067,230.98766200816874,148.9580477852741,260.94807912686383,227.40822324621422,182.0140104497453,237.34953128245272,243.30536368933588,265.65221625275404,200.86537780314455,243.83375484128527,290.5346795134791,232.60309542222348,211.01729786915575,148.21841990791833,134.14357979418918,206.16401237849442,171.5045188909027,260.98026745330765,214.95371594834083,153.0493384500567,244.6830603045499,303.92828101379445,246.11338850212925,159.95811951882905,147.75486455612892,151.86046226717474,210.99289087549846,239.48924819289905,247.52494823754634,277.697317235871,129.92959632046887,254.30808087829217,263.6198019876352,204.69342930343416,205.95606327564138,247.90098829976455,234.70129952771885,225.32243563391552,244.28774017539234,187.23621444581707,218.3494904963142,214.1226284165221,266.47382610680546,230.29524528309307,200.95422364309738,164.70276257549537,150.8353406864585,191.3052534563544,214.95162246421867,190.87404223728277],\"type\":\"scatter\"},{\"marker\":{\"color\":\"rgba(255,0,0,1)\",\"line\":{\"color\":\"rgba(0,0,0,1)\",\"width\":2},\"size\":10},\"mode\":\"markers\",\"name\":\"Test\",\"x\":[0],\"y\":[53.4181617055473],\"type\":\"scatter\"}],                        {\"template\":{\"data\":{\"histogram2dcontour\":[{\"type\":\"histogram2dcontour\",\"colorbar\":{\"outlinewidth\":0,\"ticks\":\"\"},\"colorscale\":[[0.0,\"#0d0887\"],[0.1111111111111111,\"#46039f\"],[0.2222222222222222,\"#7201a8\"],[0.3333333333333333,\"#9c179e\"],[0.4444444444444444,\"#bd3786\"],[0.5555555555555556,\"#d8576b\"],[0.6666666666666666,\"#ed7953\"],[0.7777777777777778,\"#fb9f3a\"],[0.8888888888888888,\"#fdca26\"],[1.0,\"#f0f921\"]]}],\"choropleth\":[{\"type\":\"choropleth\",\"colorbar\":{\"outlinewidth\":0,\"ticks\":\"\"}}],\"histogram2d\":[{\"type\":\"histogram2d\",\"colorbar\":{\"outlinewidth\":0,\"ticks\":\"\"},\"colorscale\":[[0.0,\"#0d0887\"],[0.1111111111111111,\"#46039f\"],[0.2222222222222222,\"#7201a8\"],[0.3333333333333333,\"#9c179e\"],[0.4444444444444444,\"#bd3786\"],[0.5555555555555556,\"#d8576b\"],[0.6666666666666666,\"#ed7953\"],[0.7777777777777778,\"#fb9f3a\"],[0.8888888888888888,\"#fdca26\"],[1.0,\"#f0f921\"]]}],\"heatmap\":[{\"type\":\"heatmap\",\"colorbar\":{\"outlinewidth\":0,\"ticks\":\"\"},\"colorscale\":[[0.0,\"#0d0887\"],[0.1111111111111111,\"#46039f\"],[0.2222222222222222,\"#7201a8\"],[0.3333333333333333,\"#9c179e\"],[0.4444444444444444,\"#bd3786\"],[0.5555555555555556,\"#d8576b\"],[0.6666666666666666,\"#ed7953\"],[0.7777777777777778,\"#fb9f3a\"],[0.8888888888888888,\"#fdca26\"],[1.0,\"#f0f921\"]]}],\"heatmapgl\":[{\"type\":\"heatmapgl\",\"colorbar\":{\"outlinewidth\":0,\"ticks\":\"\"},\"colorscale\":[[0.0,\"#0d0887\"],[0.1111111111111111,\"#46039f\"],[0.2222222222222222,\"#7201a8\"],[0.3333333333333333,\"#9c179e\"],[0.4444444444444444,\"#bd3786\"],[0.5555555555555556,\"#d8576b\"],[0.6666666666666666,\"#ed7953\"],[0.7777777777777778,\"#fb9f3a\"],[0.8888888888888888,\"#fdca26\"],[1.0,\"#f0f921\"]]}],\"contourcarpet\":[{\"type\":\"contourcarpet\",\"colorbar\":{\"outlinewidth\":0,\"ticks\":\"\"}}],\"contour\":[{\"type\":\"contour\",\"colorbar\":{\"outlinewidth\":0,\"ticks\":\"\"},\"colorscale\":[[0.0,\"#0d0887\"],[0.1111111111111111,\"#46039f\"],[0.2222222222222222,\"#7201a8\"],[0.3333333333333333,\"#9c179e\"],[0.4444444444444444,\"#bd3786\"],[0.5555555555555556,\"#d8576b\"],[0.6666666666666666,\"#ed7953\"],[0.7777777777777778,\"#fb9f3a\"],[0.8888888888888888,\"#fdca26\"],[1.0,\"#f0f921\"]]}],\"surface\":[{\"type\":\"surface\",\"colorbar\":{\"outlinewidth\":0,\"ticks\":\"\"},\"colorscale\":[[0.0,\"#0d0887\"],[0.1111111111111111,\"#46039f\"],[0.2222222222222222,\"#7201a8\"],[0.3333333333333333,\"#9c179e\"],[0.4444444444444444,\"#bd3786\"],[0.5555555555555556,\"#d8576b\"],[0.6666666666666666,\"#ed7953\"],[0.7777777777777778,\"#fb9f3a\"],[0.8888888888888888,\"#fdca26\"],[1.0,\"#f0f921\"]]}],\"mesh3d\":[{\"type\":\"mesh3d\",\"colorbar\":{\"outlinewidth\":0,\"ticks\":\"\"}}],\"scatter\":[{\"fillpattern\":{\"fillmode\":\"overlay\",\"size\":10,\"solidity\":0.2},\"type\":\"scatter\"}],\"parcoords\":[{\"type\":\"parcoords\",\"line\":{\"colorbar\":{\"outlinewidth\":0,\"ticks\":\"\"}}}],\"scatterpolargl\":[{\"type\":\"scatterpolargl\",\"marker\":{\"colorbar\":{\"outlinewidth\":0,\"ticks\":\"\"}}}],\"bar\":[{\"error_x\":{\"color\":\"#2a3f5f\"},\"error_y\":{\"color\":\"#2a3f5f\"},\"marker\":{\"line\":{\"color\":\"#E5ECF6\",\"width\":0.5},\"pattern\":{\"fillmode\":\"overlay\",\"size\":10,\"solidity\":0.2}},\"type\":\"bar\"}],\"scattergeo\":[{\"type\":\"scattergeo\",\"marker\":{\"colorbar\":{\"outlinewidth\":0,\"ticks\":\"\"}}}],\"scatterpolar\":[{\"type\":\"scatterpolar\",\"marker\":{\"colorbar\":{\"outlinewidth\":0,\"ticks\":\"\"}}}],\"histogram\":[{\"marker\":{\"pattern\":{\"fillmode\":\"overlay\",\"size\":10,\"solidity\":0.2}},\"type\":\"histogram\"}],\"scattergl\":[{\"type\":\"scattergl\",\"marker\":{\"colorbar\":{\"outlinewidth\":0,\"ticks\":\"\"}}}],\"scatter3d\":[{\"type\":\"scatter3d\",\"line\":{\"colorbar\":{\"outlinewidth\":0,\"ticks\":\"\"}},\"marker\":{\"colorbar\":{\"outlinewidth\":0,\"ticks\":\"\"}}}],\"scattermapbox\":[{\"type\":\"scattermapbox\",\"marker\":{\"colorbar\":{\"outlinewidth\":0,\"ticks\":\"\"}}}],\"scatterternary\":[{\"type\":\"scatterternary\",\"marker\":{\"colorbar\":{\"outlinewidth\":0,\"ticks\":\"\"}}}],\"scattercarpet\":[{\"type\":\"scattercarpet\",\"marker\":{\"colorbar\":{\"outlinewidth\":0,\"ticks\":\"\"}}}],\"carpet\":[{\"aaxis\":{\"endlinecolor\":\"#2a3f5f\",\"gridcolor\":\"white\",\"linecolor\":\"white\",\"minorgridcolor\":\"white\",\"startlinecolor\":\"#2a3f5f\"},\"baxis\":{\"endlinecolor\":\"#2a3f5f\",\"gridcolor\":\"white\",\"linecolor\":\"white\",\"minorgridcolor\":\"white\",\"startlinecolor\":\"#2a3f5f\"},\"type\":\"carpet\"}],\"table\":[{\"cells\":{\"fill\":{\"color\":\"#EBF0F8\"},\"line\":{\"color\":\"white\"}},\"header\":{\"fill\":{\"color\":\"#C8D4E3\"},\"line\":{\"color\":\"white\"}},\"type\":\"table\"}],\"barpolar\":[{\"marker\":{\"line\":{\"color\":\"#E5ECF6\",\"width\":0.5},\"pattern\":{\"fillmode\":\"overlay\",\"size\":10,\"solidity\":0.2}},\"type\":\"barpolar\"}],\"pie\":[{\"automargin\":true,\"type\":\"pie\"}]},\"layout\":{\"autotypenumbers\":\"strict\",\"colorway\":[\"#636efa\",\"#EF553B\",\"#00cc96\",\"#ab63fa\",\"#FFA15A\",\"#19d3f3\",\"#FF6692\",\"#B6E880\",\"#FF97FF\",\"#FECB52\"],\"font\":{\"color\":\"#2a3f5f\"},\"hovermode\":\"closest\",\"hoverlabel\":{\"align\":\"left\"},\"paper_bgcolor\":\"white\",\"plot_bgcolor\":\"#E5ECF6\",\"polar\":{\"bgcolor\":\"#E5ECF6\",\"angularaxis\":{\"gridcolor\":\"white\",\"linecolor\":\"white\",\"ticks\":\"\"},\"radialaxis\":{\"gridcolor\":\"white\",\"linecolor\":\"white\",\"ticks\":\"\"}},\"ternary\":{\"bgcolor\":\"#E5ECF6\",\"aaxis\":{\"gridcolor\":\"white\",\"linecolor\":\"white\",\"ticks\":\"\"},\"baxis\":{\"gridcolor\":\"white\",\"linecolor\":\"white\",\"ticks\":\"\"},\"caxis\":{\"gridcolor\":\"white\",\"linecolor\":\"white\",\"ticks\":\"\"}},\"coloraxis\":{\"colorbar\":{\"outlinewidth\":0,\"ticks\":\"\"}},\"colorscale\":{\"sequential\":[[0.0,\"#0d0887\"],[0.1111111111111111,\"#46039f\"],[0.2222222222222222,\"#7201a8\"],[0.3333333333333333,\"#9c179e\"],[0.4444444444444444,\"#bd3786\"],[0.5555555555555556,\"#d8576b\"],[0.6666666666666666,\"#ed7953\"],[0.7777777777777778,\"#fb9f3a\"],[0.8888888888888888,\"#fdca26\"],[1.0,\"#f0f921\"]],\"sequentialminus\":[[0.0,\"#0d0887\"],[0.1111111111111111,\"#46039f\"],[0.2222222222222222,\"#7201a8\"],[0.3333333333333333,\"#9c179e\"],[0.4444444444444444,\"#bd3786\"],[0.5555555555555556,\"#d8576b\"],[0.6666666666666666,\"#ed7953\"],[0.7777777777777778,\"#fb9f3a\"],[0.8888888888888888,\"#fdca26\"],[1.0,\"#f0f921\"]],\"diverging\":[[0,\"#8e0152\"],[0.1,\"#c51b7d\"],[0.2,\"#de77ae\"],[0.3,\"#f1b6da\"],[0.4,\"#fde0ef\"],[0.5,\"#f7f7f7\"],[0.6,\"#e6f5d0\"],[0.7,\"#b8e186\"],[0.8,\"#7fbc41\"],[0.9,\"#4d9221\"],[1,\"#276419\"]]},\"xaxis\":{\"gridcolor\":\"white\",\"linecolor\":\"white\",\"ticks\":\"\",\"title\":{\"standoff\":15},\"zerolinecolor\":\"white\",\"automargin\":true,\"zerolinewidth\":2},\"yaxis\":{\"gridcolor\":\"white\",\"linecolor\":\"white\",\"ticks\":\"\",\"title\":{\"standoff\":15},\"zerolinecolor\":\"white\",\"automargin\":true,\"zerolinewidth\":2},\"scene\":{\"xaxis\":{\"backgroundcolor\":\"#E5ECF6\",\"gridcolor\":\"white\",\"linecolor\":\"white\",\"showbackground\":true,\"ticks\":\"\",\"zerolinecolor\":\"white\",\"gridwidth\":2},\"yaxis\":{\"backgroundcolor\":\"#E5ECF6\",\"gridcolor\":\"white\",\"linecolor\":\"white\",\"showbackground\":true,\"ticks\":\"\",\"zerolinecolor\":\"white\",\"gridwidth\":2},\"zaxis\":{\"backgroundcolor\":\"#E5ECF6\",\"gridcolor\":\"white\",\"linecolor\":\"white\",\"showbackground\":true,\"ticks\":\"\",\"zerolinecolor\":\"white\",\"gridwidth\":2}},\"shapedefaults\":{\"line\":{\"color\":\"#2a3f5f\"}},\"annotationdefaults\":{\"arrowcolor\":\"#2a3f5f\",\"arrowhead\":0,\"arrowwidth\":1},\"geo\":{\"bgcolor\":\"white\",\"landcolor\":\"#E5ECF6\",\"subunitcolor\":\"white\",\"showland\":true,\"showlakes\":true,\"lakecolor\":\"white\"},\"title\":{\"x\":0.05},\"mapbox\":{\"style\":\"light\"}}},\"xaxis\":{\"title\":{\"text\":\"Predictions\"},\"linecolor\":\"rgba(0,0,0,1)\",\"range\":[-0.5,0.5],\"showticklabels\":false},\"yaxis\":{\"title\":{\"text\":\"Root Mean Square Error\"},\"linecolor\":\"rgba(0,0,0,1)\"},\"margin\":{\"l\":450,\"r\":450,\"t\":50,\"b\":50},\"paper_bgcolor\":\"rgba(0, 0, 0, 0)\",\"plot_bgcolor\":\"rgba(0, 0, 0, 0)\",\"height\":400},                        {\"responsive\": true}                    ).then(function(){\n",
       "                            \n",
       "var gd = document.getElementById('fe0b9bdd-26da-4034-813c-236b70908cdc');\n",
       "var x = new MutationObserver(function (mutations, observer) {{\n",
       "        var display = window.getComputedStyle(gd).display;\n",
       "        if (!display || display === 'none') {{\n",
       "            console.log([gd, 'removed!']);\n",
       "            Plotly.purge(gd);\n",
       "            observer.disconnect();\n",
       "        }}\n",
       "}});\n",
       "\n",
       "// Listen for the removal of the full notebook cells\n",
       "var notebookContainer = gd.closest('#notebook-container');\n",
       "if (notebookContainer) {{\n",
       "    x.observe(notebookContainer, {childList: true});\n",
       "}}\n",
       "\n",
       "// Listen for the clearing of the current output cell\n",
       "var outputEl = gd.closest('.output');\n",
       "if (outputEl) {{\n",
       "    x.observe(outputEl, {childList: true});\n",
       "}}\n",
       "\n",
       "                        })                };                });            </script>        </div>"
      ]
     },
     "metadata": {},
     "output_type": "display_data"
    }
   ],
   "source": [
    "fig2 = go.Figure()\n",
    "dfs_rms=np.zeros(100)\n",
    "xr=0.1*np.random.rand(100)-.05\n",
    "\n",
    "for i in np.arange(np.shape(sf)[0]):\n",
    "    dfs = pd.read_csv(sf[i])\n",
    "    dfs_rms[i] = (st.mean((dfs.prediction-dfs.ground_truth)**2))**0.5\n",
    "\n",
    "fig2.add_trace(go.Scatter(x=xr,y=dfs_rms,\n",
    "                          mode='markers',\n",
    "                          name='Permuted',\n",
    "                          marker=dict(size=10,\n",
    "                                      color='rgba(225,225,225,1)',\n",
    "                                      line=dict(width=2,\n",
    "                                               color='rgba(0,0,0,1)')\n",
    "                          )\n",
    "                          ))\n",
    "fig2.add_trace(go.Scatter(x=[0],y=[(st.mean((dfg.prediction-dfg.ground_truth)**2))**0.5],\n",
    "                          mode='markers',\n",
    "                          name='Test',\n",
    "                          marker=dict(size=10,\n",
    "                                     color='rgba(255,0,0,1)',\n",
    "                                     line=dict(width=2,\n",
    "                                              color='rgba(0,0,0,1)')\n",
    "                                     )\n",
    "                         )\n",
    "              )\n",
    "\n",
    "fig2.update_xaxes(linecolor='rgba(0,0,0,1)',\n",
    "                  range=[-0.5,.5],\n",
    "                  showticklabels=False,\n",
    "                  title_text='Predictions',\n",
    "                )\n",
    "fig2.update_yaxes(linecolor='rgba(0,0,0,1)',\n",
    "                 title_text='Root Mean Square Error'\n",
    "                )\n",
    "fig2.update_layout(\n",
    "    paper_bgcolor='rgba(0, 0, 0, 0)',\n",
    "    plot_bgcolor='rgba(0, 0, 0, 0)',\n",
    "    margin=dict(l=450, r=450, t=50, b=50),\n",
    "    height=400\n",
    ")"
   ]
  },
  {
   "cell_type": "code",
   "execution_count": 303,
   "id": "c0d2486c",
   "metadata": {},
   "outputs": [
    {
     "data": {
      "application/vnd.plotly.v1+json": {
       "config": {
        "plotlyServerURL": "https://plot.ly"
       },
       "data": [
        {
         "marker": {
          "color": "rgba(225,225,225,1)",
          "line": {
           "color": "rgba(0,0,0,1)",
           "width": 2
          },
          "size": 10
         },
         "mode": "markers",
         "name": "Permuted",
         "type": "scatter",
         "x": [
          -0.04243452750950173,
          -0.030519875936038533,
          0.021257073514206,
          -0.016730982679852194,
          0.035441784591785305,
          -0.025836528937083093,
          -0.044831833915443924,
          -0.04925044927994853,
          -0.01032757164469611,
          -0.04433185230641406,
          0.0488602314954973,
          0.006747316241308379,
          -0.02321954257061808,
          0.03580835761467853,
          -0.02877779390326897,
          0.04422466447171153,
          -0.04063658000319237,
          -0.00030754497367475875,
          0.03782161604265642,
          -0.04071781773518271,
          0.014682935819847254,
          -0.04374644277433759,
          -0.005894306089307223,
          0.006441996300224032,
          0.03231762884200767,
          0.00867573522565531,
          -0.027115329506389507,
          0.03130796580632399,
          -0.024133714780385597,
          0.008611732697376764,
          -0.012503541329051196,
          -0.031319718944045685,
          0.015931840065848052,
          0.0003275011562014693,
          0.01725840519671186,
          0.032060098071958254,
          -0.03999213048694136,
          -0.04863854868459069,
          -0.003356871394145068,
          -0.00990106216803821,
          -0.021432435041868717,
          0.016820573348557563,
          -0.040110168529969625,
          0.01651100842501395,
          0.043142857687461386,
          -0.02318916640933405,
          -0.03266507747741003,
          -0.03806755228462402,
          0.014053872096056214,
          0.005705750483496849,
          -0.008597596355753113,
          -0.04880427335883197,
          0.013182715068043721,
          0.01194747871445477,
          -0.0027059692692881984,
          -0.04420977663671728,
          -0.03216409626762942,
          0.025400676276411488,
          0.04894319564364134,
          -0.005962021756253835,
          0.03683009161300553,
          -0.024196495894319117,
          -0.006912565153138317,
          0.04859939327034929,
          -2.3561461887935953e-05,
          -0.017530506913818987,
          -0.002389774355792837,
          0.00832129847053499,
          0.008432507232061535,
          -0.04943431207818899,
          0.019198844963485617,
          0.026299508968184476,
          0.016589846629045113,
          0.029712250074762275,
          -0.04608300296140641,
          0.03870924030960647,
          -0.003572183704327145,
          0.014704038053267476,
          0.0361085534961066,
          0.04360335960143477,
          0.027619402546018232,
          -0.014974340432969836,
          -0.014917271549762447,
          0.031128520176705657,
          -0.005851389010706684,
          0.004533383355601106,
          -0.04647022488126304,
          0.03182656844637363,
          -0.01863323176184465,
          0.025786594526817988,
          0.03882580048231671,
          0.03294185664408665,
          0.029037583961918287,
          0.039733879321464244,
          0.03903970400408449,
          -0.04294075475213887,
          0.03486656976598693,
          0.03388019770411636,
          -0.036226221658762915,
          -0.03935052642470807
         ],
         "y": [
          3.8306451612903225,
          2.0161290322580645,
          1.1088709677419355,
          0.6048387096774194,
          3.7298387096774195,
          1.4112903225806452,
          2.1169354838709675,
          1.9153225806451613,
          1.2096774193548387,
          0.907258064516129,
          3.4274193548387095,
          0.907258064516129,
          2.4193548387096775,
          3.7298387096774195,
          2.721774193548387,
          1.9153225806451613,
          0.4032258064516129,
          0.907258064516129,
          2.0161290322580645,
          6.048387096774194,
          2.721774193548387,
          1.4112903225806452,
          1.9153225806451613,
          4.233870967741935,
          6.754032258064516,
          3.629032258064516,
          1.5120967741935485,
          0.6048387096774194,
          2.1169354838709675,
          1.6129032258064515,
          2.318548387096774,
          2.0161290322580645,
          2.217741935483871,
          2.217741935483871,
          1.0080645161290323,
          0.8064516129032258,
          0.907258064516129,
          7.762096774193548,
          1.310483870967742,
          1.7137096774193548,
          6.25,
          2.8225806451612905,
          1.1088709677419355,
          3.4274193548387095,
          0.6048387096774194,
          2.620967741935484,
          2.5201612903225805,
          3.225806451612903,
          1.4112903225806452,
          0.3024193548387097,
          2.721774193548387,
          3.629032258064516,
          2.721774193548387,
          2.318548387096774,
          1.6129032258064515,
          1.9153225806451613,
          6.048387096774194,
          1.4112903225806452,
          4.233870967741935,
          2.217741935483871,
          1.814516129032258,
          0.907258064516129,
          1.814516129032258,
          0.7056451612903226,
          2.217741935483871,
          2.620967741935484,
          2.318548387096774,
          4.032258064516129,
          5.141129032258065,
          2.1169354838709675,
          3.528225806451613,
          3.931451612903226,
          0.3024193548387097,
          4.435483870967742,
          2.721774193548387,
          0.907258064516129,
          4.032258064516129,
          2.0161290322580645,
          4.233870967741935,
          2.217741935483871,
          1.310483870967742,
          3.3266129032258065,
          2.721774193548387,
          2.4193548387096775,
          3.7298387096774195,
          0.7056451612903226,
          2.0161290322580645,
          5.342741935483871,
          2.4193548387096775,
          1.2096774193548387,
          3.024193548387097,
          1.1088709677419355,
          2.0161290322580645,
          0.907258064516129,
          1.7137096774193548,
          1.0080645161290323,
          6.048387096774194,
          4.939516129032258,
          2.4193548387096775,
          1.310483870967742
         ]
        },
        {
         "marker": {
          "color": "rgba(255,0,0,1)",
          "line": {
           "color": "rgba(0,0,0,1)",
           "width": 2
          },
          "size": 10
         },
         "mode": "markers",
         "name": "Test",
         "type": "scatter",
         "x": [
          0
         ],
         "y": [
          20.362903225806452
         ]
        }
       ],
       "layout": {
        "height": 400,
        "margin": {
         "b": 50,
         "l": 450,
         "r": 450,
         "t": 50
        },
        "paper_bgcolor": "rgba(0, 0, 0, 0)",
        "plot_bgcolor": "rgba(0, 0, 0, 0)",
        "template": {
         "data": {
          "bar": [
           {
            "error_x": {
             "color": "#2a3f5f"
            },
            "error_y": {
             "color": "#2a3f5f"
            },
            "marker": {
             "line": {
              "color": "#E5ECF6",
              "width": 0.5
             },
             "pattern": {
              "fillmode": "overlay",
              "size": 10,
              "solidity": 0.2
             }
            },
            "type": "bar"
           }
          ],
          "barpolar": [
           {
            "marker": {
             "line": {
              "color": "#E5ECF6",
              "width": 0.5
             },
             "pattern": {
              "fillmode": "overlay",
              "size": 10,
              "solidity": 0.2
             }
            },
            "type": "barpolar"
           }
          ],
          "carpet": [
           {
            "aaxis": {
             "endlinecolor": "#2a3f5f",
             "gridcolor": "white",
             "linecolor": "white",
             "minorgridcolor": "white",
             "startlinecolor": "#2a3f5f"
            },
            "baxis": {
             "endlinecolor": "#2a3f5f",
             "gridcolor": "white",
             "linecolor": "white",
             "minorgridcolor": "white",
             "startlinecolor": "#2a3f5f"
            },
            "type": "carpet"
           }
          ],
          "choropleth": [
           {
            "colorbar": {
             "outlinewidth": 0,
             "ticks": ""
            },
            "type": "choropleth"
           }
          ],
          "contour": [
           {
            "colorbar": {
             "outlinewidth": 0,
             "ticks": ""
            },
            "colorscale": [
             [
              0,
              "#0d0887"
             ],
             [
              0.1111111111111111,
              "#46039f"
             ],
             [
              0.2222222222222222,
              "#7201a8"
             ],
             [
              0.3333333333333333,
              "#9c179e"
             ],
             [
              0.4444444444444444,
              "#bd3786"
             ],
             [
              0.5555555555555556,
              "#d8576b"
             ],
             [
              0.6666666666666666,
              "#ed7953"
             ],
             [
              0.7777777777777778,
              "#fb9f3a"
             ],
             [
              0.8888888888888888,
              "#fdca26"
             ],
             [
              1,
              "#f0f921"
             ]
            ],
            "type": "contour"
           }
          ],
          "contourcarpet": [
           {
            "colorbar": {
             "outlinewidth": 0,
             "ticks": ""
            },
            "type": "contourcarpet"
           }
          ],
          "heatmap": [
           {
            "colorbar": {
             "outlinewidth": 0,
             "ticks": ""
            },
            "colorscale": [
             [
              0,
              "#0d0887"
             ],
             [
              0.1111111111111111,
              "#46039f"
             ],
             [
              0.2222222222222222,
              "#7201a8"
             ],
             [
              0.3333333333333333,
              "#9c179e"
             ],
             [
              0.4444444444444444,
              "#bd3786"
             ],
             [
              0.5555555555555556,
              "#d8576b"
             ],
             [
              0.6666666666666666,
              "#ed7953"
             ],
             [
              0.7777777777777778,
              "#fb9f3a"
             ],
             [
              0.8888888888888888,
              "#fdca26"
             ],
             [
              1,
              "#f0f921"
             ]
            ],
            "type": "heatmap"
           }
          ],
          "heatmapgl": [
           {
            "colorbar": {
             "outlinewidth": 0,
             "ticks": ""
            },
            "colorscale": [
             [
              0,
              "#0d0887"
             ],
             [
              0.1111111111111111,
              "#46039f"
             ],
             [
              0.2222222222222222,
              "#7201a8"
             ],
             [
              0.3333333333333333,
              "#9c179e"
             ],
             [
              0.4444444444444444,
              "#bd3786"
             ],
             [
              0.5555555555555556,
              "#d8576b"
             ],
             [
              0.6666666666666666,
              "#ed7953"
             ],
             [
              0.7777777777777778,
              "#fb9f3a"
             ],
             [
              0.8888888888888888,
              "#fdca26"
             ],
             [
              1,
              "#f0f921"
             ]
            ],
            "type": "heatmapgl"
           }
          ],
          "histogram": [
           {
            "marker": {
             "pattern": {
              "fillmode": "overlay",
              "size": 10,
              "solidity": 0.2
             }
            },
            "type": "histogram"
           }
          ],
          "histogram2d": [
           {
            "colorbar": {
             "outlinewidth": 0,
             "ticks": ""
            },
            "colorscale": [
             [
              0,
              "#0d0887"
             ],
             [
              0.1111111111111111,
              "#46039f"
             ],
             [
              0.2222222222222222,
              "#7201a8"
             ],
             [
              0.3333333333333333,
              "#9c179e"
             ],
             [
              0.4444444444444444,
              "#bd3786"
             ],
             [
              0.5555555555555556,
              "#d8576b"
             ],
             [
              0.6666666666666666,
              "#ed7953"
             ],
             [
              0.7777777777777778,
              "#fb9f3a"
             ],
             [
              0.8888888888888888,
              "#fdca26"
             ],
             [
              1,
              "#f0f921"
             ]
            ],
            "type": "histogram2d"
           }
          ],
          "histogram2dcontour": [
           {
            "colorbar": {
             "outlinewidth": 0,
             "ticks": ""
            },
            "colorscale": [
             [
              0,
              "#0d0887"
             ],
             [
              0.1111111111111111,
              "#46039f"
             ],
             [
              0.2222222222222222,
              "#7201a8"
             ],
             [
              0.3333333333333333,
              "#9c179e"
             ],
             [
              0.4444444444444444,
              "#bd3786"
             ],
             [
              0.5555555555555556,
              "#d8576b"
             ],
             [
              0.6666666666666666,
              "#ed7953"
             ],
             [
              0.7777777777777778,
              "#fb9f3a"
             ],
             [
              0.8888888888888888,
              "#fdca26"
             ],
             [
              1,
              "#f0f921"
             ]
            ],
            "type": "histogram2dcontour"
           }
          ],
          "mesh3d": [
           {
            "colorbar": {
             "outlinewidth": 0,
             "ticks": ""
            },
            "type": "mesh3d"
           }
          ],
          "parcoords": [
           {
            "line": {
             "colorbar": {
              "outlinewidth": 0,
              "ticks": ""
             }
            },
            "type": "parcoords"
           }
          ],
          "pie": [
           {
            "automargin": true,
            "type": "pie"
           }
          ],
          "scatter": [
           {
            "fillpattern": {
             "fillmode": "overlay",
             "size": 10,
             "solidity": 0.2
            },
            "type": "scatter"
           }
          ],
          "scatter3d": [
           {
            "line": {
             "colorbar": {
              "outlinewidth": 0,
              "ticks": ""
             }
            },
            "marker": {
             "colorbar": {
              "outlinewidth": 0,
              "ticks": ""
             }
            },
            "type": "scatter3d"
           }
          ],
          "scattercarpet": [
           {
            "marker": {
             "colorbar": {
              "outlinewidth": 0,
              "ticks": ""
             }
            },
            "type": "scattercarpet"
           }
          ],
          "scattergeo": [
           {
            "marker": {
             "colorbar": {
              "outlinewidth": 0,
              "ticks": ""
             }
            },
            "type": "scattergeo"
           }
          ],
          "scattergl": [
           {
            "marker": {
             "colorbar": {
              "outlinewidth": 0,
              "ticks": ""
             }
            },
            "type": "scattergl"
           }
          ],
          "scattermapbox": [
           {
            "marker": {
             "colorbar": {
              "outlinewidth": 0,
              "ticks": ""
             }
            },
            "type": "scattermapbox"
           }
          ],
          "scatterpolar": [
           {
            "marker": {
             "colorbar": {
              "outlinewidth": 0,
              "ticks": ""
             }
            },
            "type": "scatterpolar"
           }
          ],
          "scatterpolargl": [
           {
            "marker": {
             "colorbar": {
              "outlinewidth": 0,
              "ticks": ""
             }
            },
            "type": "scatterpolargl"
           }
          ],
          "scatterternary": [
           {
            "marker": {
             "colorbar": {
              "outlinewidth": 0,
              "ticks": ""
             }
            },
            "type": "scatterternary"
           }
          ],
          "surface": [
           {
            "colorbar": {
             "outlinewidth": 0,
             "ticks": ""
            },
            "colorscale": [
             [
              0,
              "#0d0887"
             ],
             [
              0.1111111111111111,
              "#46039f"
             ],
             [
              0.2222222222222222,
              "#7201a8"
             ],
             [
              0.3333333333333333,
              "#9c179e"
             ],
             [
              0.4444444444444444,
              "#bd3786"
             ],
             [
              0.5555555555555556,
              "#d8576b"
             ],
             [
              0.6666666666666666,
              "#ed7953"
             ],
             [
              0.7777777777777778,
              "#fb9f3a"
             ],
             [
              0.8888888888888888,
              "#fdca26"
             ],
             [
              1,
              "#f0f921"
             ]
            ],
            "type": "surface"
           }
          ],
          "table": [
           {
            "cells": {
             "fill": {
              "color": "#EBF0F8"
             },
             "line": {
              "color": "white"
             }
            },
            "header": {
             "fill": {
              "color": "#C8D4E3"
             },
             "line": {
              "color": "white"
             }
            },
            "type": "table"
           }
          ]
         },
         "layout": {
          "annotationdefaults": {
           "arrowcolor": "#2a3f5f",
           "arrowhead": 0,
           "arrowwidth": 1
          },
          "autotypenumbers": "strict",
          "coloraxis": {
           "colorbar": {
            "outlinewidth": 0,
            "ticks": ""
           }
          },
          "colorscale": {
           "diverging": [
            [
             0,
             "#8e0152"
            ],
            [
             0.1,
             "#c51b7d"
            ],
            [
             0.2,
             "#de77ae"
            ],
            [
             0.3,
             "#f1b6da"
            ],
            [
             0.4,
             "#fde0ef"
            ],
            [
             0.5,
             "#f7f7f7"
            ],
            [
             0.6,
             "#e6f5d0"
            ],
            [
             0.7,
             "#b8e186"
            ],
            [
             0.8,
             "#7fbc41"
            ],
            [
             0.9,
             "#4d9221"
            ],
            [
             1,
             "#276419"
            ]
           ],
           "sequential": [
            [
             0,
             "#0d0887"
            ],
            [
             0.1111111111111111,
             "#46039f"
            ],
            [
             0.2222222222222222,
             "#7201a8"
            ],
            [
             0.3333333333333333,
             "#9c179e"
            ],
            [
             0.4444444444444444,
             "#bd3786"
            ],
            [
             0.5555555555555556,
             "#d8576b"
            ],
            [
             0.6666666666666666,
             "#ed7953"
            ],
            [
             0.7777777777777778,
             "#fb9f3a"
            ],
            [
             0.8888888888888888,
             "#fdca26"
            ],
            [
             1,
             "#f0f921"
            ]
           ],
           "sequentialminus": [
            [
             0,
             "#0d0887"
            ],
            [
             0.1111111111111111,
             "#46039f"
            ],
            [
             0.2222222222222222,
             "#7201a8"
            ],
            [
             0.3333333333333333,
             "#9c179e"
            ],
            [
             0.4444444444444444,
             "#bd3786"
            ],
            [
             0.5555555555555556,
             "#d8576b"
            ],
            [
             0.6666666666666666,
             "#ed7953"
            ],
            [
             0.7777777777777778,
             "#fb9f3a"
            ],
            [
             0.8888888888888888,
             "#fdca26"
            ],
            [
             1,
             "#f0f921"
            ]
           ]
          },
          "colorway": [
           "#636efa",
           "#EF553B",
           "#00cc96",
           "#ab63fa",
           "#FFA15A",
           "#19d3f3",
           "#FF6692",
           "#B6E880",
           "#FF97FF",
           "#FECB52"
          ],
          "font": {
           "color": "#2a3f5f"
          },
          "geo": {
           "bgcolor": "white",
           "lakecolor": "white",
           "landcolor": "#E5ECF6",
           "showlakes": true,
           "showland": true,
           "subunitcolor": "white"
          },
          "hoverlabel": {
           "align": "left"
          },
          "hovermode": "closest",
          "mapbox": {
           "style": "light"
          },
          "paper_bgcolor": "white",
          "plot_bgcolor": "#E5ECF6",
          "polar": {
           "angularaxis": {
            "gridcolor": "white",
            "linecolor": "white",
            "ticks": ""
           },
           "bgcolor": "#E5ECF6",
           "radialaxis": {
            "gridcolor": "white",
            "linecolor": "white",
            "ticks": ""
           }
          },
          "scene": {
           "xaxis": {
            "backgroundcolor": "#E5ECF6",
            "gridcolor": "white",
            "gridwidth": 2,
            "linecolor": "white",
            "showbackground": true,
            "ticks": "",
            "zerolinecolor": "white"
           },
           "yaxis": {
            "backgroundcolor": "#E5ECF6",
            "gridcolor": "white",
            "gridwidth": 2,
            "linecolor": "white",
            "showbackground": true,
            "ticks": "",
            "zerolinecolor": "white"
           },
           "zaxis": {
            "backgroundcolor": "#E5ECF6",
            "gridcolor": "white",
            "gridwidth": 2,
            "linecolor": "white",
            "showbackground": true,
            "ticks": "",
            "zerolinecolor": "white"
           }
          },
          "shapedefaults": {
           "line": {
            "color": "#2a3f5f"
           }
          },
          "ternary": {
           "aaxis": {
            "gridcolor": "white",
            "linecolor": "white",
            "ticks": ""
           },
           "baxis": {
            "gridcolor": "white",
            "linecolor": "white",
            "ticks": ""
           },
           "bgcolor": "#E5ECF6",
           "caxis": {
            "gridcolor": "white",
            "linecolor": "white",
            "ticks": ""
           }
          },
          "title": {
           "x": 0.05
          },
          "xaxis": {
           "automargin": true,
           "gridcolor": "white",
           "linecolor": "white",
           "ticks": "",
           "title": {
            "standoff": 15
           },
           "zerolinecolor": "white",
           "zerolinewidth": 2
          },
          "yaxis": {
           "automargin": true,
           "gridcolor": "white",
           "linecolor": "white",
           "ticks": "",
           "title": {
            "standoff": 15
           },
           "zerolinecolor": "white",
           "zerolinewidth": 2
          }
         }
        },
        "xaxis": {
         "linecolor": "rgba(0,0,0,1)",
         "range": [
          -0.5,
          0.5
         ],
         "showticklabels": false,
         "title": {
          "text": "Predictions"
         }
        },
        "yaxis": {
         "linecolor": "rgba(0,0,0,1)",
         "range": [
          0,
          30
         ],
         "title": {
          "text": "Accuracy (%)"
         }
        }
       }
      },
      "text/html": [
       "<div>                            <div id=\"4bf83975-5187-4792-9b8d-b13501e0c406\" class=\"plotly-graph-div\" style=\"height:400px; width:100%;\"></div>            <script type=\"text/javascript\">                require([\"plotly\"], function(Plotly) {                    window.PLOTLYENV=window.PLOTLYENV || {};                                    if (document.getElementById(\"4bf83975-5187-4792-9b8d-b13501e0c406\")) {                    Plotly.newPlot(                        \"4bf83975-5187-4792-9b8d-b13501e0c406\",                        [{\"marker\":{\"color\":\"rgba(225,225,225,1)\",\"line\":{\"color\":\"rgba(0,0,0,1)\",\"width\":2},\"size\":10},\"mode\":\"markers\",\"name\":\"Permuted\",\"x\":[-0.04243452750950173,-0.030519875936038533,0.021257073514206,-0.016730982679852194,0.035441784591785305,-0.025836528937083093,-0.044831833915443924,-0.04925044927994853,-0.01032757164469611,-0.04433185230641406,0.0488602314954973,0.006747316241308379,-0.02321954257061808,0.03580835761467853,-0.02877779390326897,0.04422466447171153,-0.04063658000319237,-0.00030754497367475875,0.03782161604265642,-0.04071781773518271,0.014682935819847254,-0.04374644277433759,-0.005894306089307223,0.006441996300224032,0.03231762884200767,0.00867573522565531,-0.027115329506389507,0.03130796580632399,-0.024133714780385597,0.008611732697376764,-0.012503541329051196,-0.031319718944045685,0.015931840065848052,0.0003275011562014693,0.01725840519671186,0.032060098071958254,-0.03999213048694136,-0.04863854868459069,-0.003356871394145068,-0.00990106216803821,-0.021432435041868717,0.016820573348557563,-0.040110168529969625,0.01651100842501395,0.043142857687461386,-0.02318916640933405,-0.03266507747741003,-0.03806755228462402,0.014053872096056214,0.005705750483496849,-0.008597596355753113,-0.04880427335883197,0.013182715068043721,0.01194747871445477,-0.0027059692692881984,-0.04420977663671728,-0.03216409626762942,0.025400676276411488,0.04894319564364134,-0.005962021756253835,0.03683009161300553,-0.024196495894319117,-0.006912565153138317,0.04859939327034929,-2.3561461887935953e-05,-0.017530506913818987,-0.002389774355792837,0.00832129847053499,0.008432507232061535,-0.04943431207818899,0.019198844963485617,0.026299508968184476,0.016589846629045113,0.029712250074762275,-0.04608300296140641,0.03870924030960647,-0.003572183704327145,0.014704038053267476,0.0361085534961066,0.04360335960143477,0.027619402546018232,-0.014974340432969836,-0.014917271549762447,0.031128520176705657,-0.005851389010706684,0.004533383355601106,-0.04647022488126304,0.03182656844637363,-0.01863323176184465,0.025786594526817988,0.03882580048231671,0.03294185664408665,0.029037583961918287,0.039733879321464244,0.03903970400408449,-0.04294075475213887,0.03486656976598693,0.03388019770411636,-0.036226221658762915,-0.03935052642470807],\"y\":[3.8306451612903225,2.0161290322580645,1.1088709677419355,0.6048387096774194,3.7298387096774195,1.4112903225806452,2.1169354838709675,1.9153225806451613,1.2096774193548387,0.907258064516129,3.4274193548387095,0.907258064516129,2.4193548387096775,3.7298387096774195,2.721774193548387,1.9153225806451613,0.4032258064516129,0.907258064516129,2.0161290322580645,6.048387096774194,2.721774193548387,1.4112903225806452,1.9153225806451613,4.233870967741935,6.754032258064516,3.629032258064516,1.5120967741935485,0.6048387096774194,2.1169354838709675,1.6129032258064515,2.318548387096774,2.0161290322580645,2.217741935483871,2.217741935483871,1.0080645161290323,0.8064516129032258,0.907258064516129,7.762096774193548,1.310483870967742,1.7137096774193548,6.25,2.8225806451612905,1.1088709677419355,3.4274193548387095,0.6048387096774194,2.620967741935484,2.5201612903225805,3.225806451612903,1.4112903225806452,0.3024193548387097,2.721774193548387,3.629032258064516,2.721774193548387,2.318548387096774,1.6129032258064515,1.9153225806451613,6.048387096774194,1.4112903225806452,4.233870967741935,2.217741935483871,1.814516129032258,0.907258064516129,1.814516129032258,0.7056451612903226,2.217741935483871,2.620967741935484,2.318548387096774,4.032258064516129,5.141129032258065,2.1169354838709675,3.528225806451613,3.931451612903226,0.3024193548387097,4.435483870967742,2.721774193548387,0.907258064516129,4.032258064516129,2.0161290322580645,4.233870967741935,2.217741935483871,1.310483870967742,3.3266129032258065,2.721774193548387,2.4193548387096775,3.7298387096774195,0.7056451612903226,2.0161290322580645,5.342741935483871,2.4193548387096775,1.2096774193548387,3.024193548387097,1.1088709677419355,2.0161290322580645,0.907258064516129,1.7137096774193548,1.0080645161290323,6.048387096774194,4.939516129032258,2.4193548387096775,1.310483870967742],\"type\":\"scatter\"},{\"marker\":{\"color\":\"rgba(255,0,0,1)\",\"line\":{\"color\":\"rgba(0,0,0,1)\",\"width\":2},\"size\":10},\"mode\":\"markers\",\"name\":\"Test\",\"x\":[0],\"y\":[20.362903225806452],\"type\":\"scatter\"}],                        {\"template\":{\"data\":{\"histogram2dcontour\":[{\"type\":\"histogram2dcontour\",\"colorbar\":{\"outlinewidth\":0,\"ticks\":\"\"},\"colorscale\":[[0.0,\"#0d0887\"],[0.1111111111111111,\"#46039f\"],[0.2222222222222222,\"#7201a8\"],[0.3333333333333333,\"#9c179e\"],[0.4444444444444444,\"#bd3786\"],[0.5555555555555556,\"#d8576b\"],[0.6666666666666666,\"#ed7953\"],[0.7777777777777778,\"#fb9f3a\"],[0.8888888888888888,\"#fdca26\"],[1.0,\"#f0f921\"]]}],\"choropleth\":[{\"type\":\"choropleth\",\"colorbar\":{\"outlinewidth\":0,\"ticks\":\"\"}}],\"histogram2d\":[{\"type\":\"histogram2d\",\"colorbar\":{\"outlinewidth\":0,\"ticks\":\"\"},\"colorscale\":[[0.0,\"#0d0887\"],[0.1111111111111111,\"#46039f\"],[0.2222222222222222,\"#7201a8\"],[0.3333333333333333,\"#9c179e\"],[0.4444444444444444,\"#bd3786\"],[0.5555555555555556,\"#d8576b\"],[0.6666666666666666,\"#ed7953\"],[0.7777777777777778,\"#fb9f3a\"],[0.8888888888888888,\"#fdca26\"],[1.0,\"#f0f921\"]]}],\"heatmap\":[{\"type\":\"heatmap\",\"colorbar\":{\"outlinewidth\":0,\"ticks\":\"\"},\"colorscale\":[[0.0,\"#0d0887\"],[0.1111111111111111,\"#46039f\"],[0.2222222222222222,\"#7201a8\"],[0.3333333333333333,\"#9c179e\"],[0.4444444444444444,\"#bd3786\"],[0.5555555555555556,\"#d8576b\"],[0.6666666666666666,\"#ed7953\"],[0.7777777777777778,\"#fb9f3a\"],[0.8888888888888888,\"#fdca26\"],[1.0,\"#f0f921\"]]}],\"heatmapgl\":[{\"type\":\"heatmapgl\",\"colorbar\":{\"outlinewidth\":0,\"ticks\":\"\"},\"colorscale\":[[0.0,\"#0d0887\"],[0.1111111111111111,\"#46039f\"],[0.2222222222222222,\"#7201a8\"],[0.3333333333333333,\"#9c179e\"],[0.4444444444444444,\"#bd3786\"],[0.5555555555555556,\"#d8576b\"],[0.6666666666666666,\"#ed7953\"],[0.7777777777777778,\"#fb9f3a\"],[0.8888888888888888,\"#fdca26\"],[1.0,\"#f0f921\"]]}],\"contourcarpet\":[{\"type\":\"contourcarpet\",\"colorbar\":{\"outlinewidth\":0,\"ticks\":\"\"}}],\"contour\":[{\"type\":\"contour\",\"colorbar\":{\"outlinewidth\":0,\"ticks\":\"\"},\"colorscale\":[[0.0,\"#0d0887\"],[0.1111111111111111,\"#46039f\"],[0.2222222222222222,\"#7201a8\"],[0.3333333333333333,\"#9c179e\"],[0.4444444444444444,\"#bd3786\"],[0.5555555555555556,\"#d8576b\"],[0.6666666666666666,\"#ed7953\"],[0.7777777777777778,\"#fb9f3a\"],[0.8888888888888888,\"#fdca26\"],[1.0,\"#f0f921\"]]}],\"surface\":[{\"type\":\"surface\",\"colorbar\":{\"outlinewidth\":0,\"ticks\":\"\"},\"colorscale\":[[0.0,\"#0d0887\"],[0.1111111111111111,\"#46039f\"],[0.2222222222222222,\"#7201a8\"],[0.3333333333333333,\"#9c179e\"],[0.4444444444444444,\"#bd3786\"],[0.5555555555555556,\"#d8576b\"],[0.6666666666666666,\"#ed7953\"],[0.7777777777777778,\"#fb9f3a\"],[0.8888888888888888,\"#fdca26\"],[1.0,\"#f0f921\"]]}],\"mesh3d\":[{\"type\":\"mesh3d\",\"colorbar\":{\"outlinewidth\":0,\"ticks\":\"\"}}],\"scatter\":[{\"fillpattern\":{\"fillmode\":\"overlay\",\"size\":10,\"solidity\":0.2},\"type\":\"scatter\"}],\"parcoords\":[{\"type\":\"parcoords\",\"line\":{\"colorbar\":{\"outlinewidth\":0,\"ticks\":\"\"}}}],\"scatterpolargl\":[{\"type\":\"scatterpolargl\",\"marker\":{\"colorbar\":{\"outlinewidth\":0,\"ticks\":\"\"}}}],\"bar\":[{\"error_x\":{\"color\":\"#2a3f5f\"},\"error_y\":{\"color\":\"#2a3f5f\"},\"marker\":{\"line\":{\"color\":\"#E5ECF6\",\"width\":0.5},\"pattern\":{\"fillmode\":\"overlay\",\"size\":10,\"solidity\":0.2}},\"type\":\"bar\"}],\"scattergeo\":[{\"type\":\"scattergeo\",\"marker\":{\"colorbar\":{\"outlinewidth\":0,\"ticks\":\"\"}}}],\"scatterpolar\":[{\"type\":\"scatterpolar\",\"marker\":{\"colorbar\":{\"outlinewidth\":0,\"ticks\":\"\"}}}],\"histogram\":[{\"marker\":{\"pattern\":{\"fillmode\":\"overlay\",\"size\":10,\"solidity\":0.2}},\"type\":\"histogram\"}],\"scattergl\":[{\"type\":\"scattergl\",\"marker\":{\"colorbar\":{\"outlinewidth\":0,\"ticks\":\"\"}}}],\"scatter3d\":[{\"type\":\"scatter3d\",\"line\":{\"colorbar\":{\"outlinewidth\":0,\"ticks\":\"\"}},\"marker\":{\"colorbar\":{\"outlinewidth\":0,\"ticks\":\"\"}}}],\"scattermapbox\":[{\"type\":\"scattermapbox\",\"marker\":{\"colorbar\":{\"outlinewidth\":0,\"ticks\":\"\"}}}],\"scatterternary\":[{\"type\":\"scatterternary\",\"marker\":{\"colorbar\":{\"outlinewidth\":0,\"ticks\":\"\"}}}],\"scattercarpet\":[{\"type\":\"scattercarpet\",\"marker\":{\"colorbar\":{\"outlinewidth\":0,\"ticks\":\"\"}}}],\"carpet\":[{\"aaxis\":{\"endlinecolor\":\"#2a3f5f\",\"gridcolor\":\"white\",\"linecolor\":\"white\",\"minorgridcolor\":\"white\",\"startlinecolor\":\"#2a3f5f\"},\"baxis\":{\"endlinecolor\":\"#2a3f5f\",\"gridcolor\":\"white\",\"linecolor\":\"white\",\"minorgridcolor\":\"white\",\"startlinecolor\":\"#2a3f5f\"},\"type\":\"carpet\"}],\"table\":[{\"cells\":{\"fill\":{\"color\":\"#EBF0F8\"},\"line\":{\"color\":\"white\"}},\"header\":{\"fill\":{\"color\":\"#C8D4E3\"},\"line\":{\"color\":\"white\"}},\"type\":\"table\"}],\"barpolar\":[{\"marker\":{\"line\":{\"color\":\"#E5ECF6\",\"width\":0.5},\"pattern\":{\"fillmode\":\"overlay\",\"size\":10,\"solidity\":0.2}},\"type\":\"barpolar\"}],\"pie\":[{\"automargin\":true,\"type\":\"pie\"}]},\"layout\":{\"autotypenumbers\":\"strict\",\"colorway\":[\"#636efa\",\"#EF553B\",\"#00cc96\",\"#ab63fa\",\"#FFA15A\",\"#19d3f3\",\"#FF6692\",\"#B6E880\",\"#FF97FF\",\"#FECB52\"],\"font\":{\"color\":\"#2a3f5f\"},\"hovermode\":\"closest\",\"hoverlabel\":{\"align\":\"left\"},\"paper_bgcolor\":\"white\",\"plot_bgcolor\":\"#E5ECF6\",\"polar\":{\"bgcolor\":\"#E5ECF6\",\"angularaxis\":{\"gridcolor\":\"white\",\"linecolor\":\"white\",\"ticks\":\"\"},\"radialaxis\":{\"gridcolor\":\"white\",\"linecolor\":\"white\",\"ticks\":\"\"}},\"ternary\":{\"bgcolor\":\"#E5ECF6\",\"aaxis\":{\"gridcolor\":\"white\",\"linecolor\":\"white\",\"ticks\":\"\"},\"baxis\":{\"gridcolor\":\"white\",\"linecolor\":\"white\",\"ticks\":\"\"},\"caxis\":{\"gridcolor\":\"white\",\"linecolor\":\"white\",\"ticks\":\"\"}},\"coloraxis\":{\"colorbar\":{\"outlinewidth\":0,\"ticks\":\"\"}},\"colorscale\":{\"sequential\":[[0.0,\"#0d0887\"],[0.1111111111111111,\"#46039f\"],[0.2222222222222222,\"#7201a8\"],[0.3333333333333333,\"#9c179e\"],[0.4444444444444444,\"#bd3786\"],[0.5555555555555556,\"#d8576b\"],[0.6666666666666666,\"#ed7953\"],[0.7777777777777778,\"#fb9f3a\"],[0.8888888888888888,\"#fdca26\"],[1.0,\"#f0f921\"]],\"sequentialminus\":[[0.0,\"#0d0887\"],[0.1111111111111111,\"#46039f\"],[0.2222222222222222,\"#7201a8\"],[0.3333333333333333,\"#9c179e\"],[0.4444444444444444,\"#bd3786\"],[0.5555555555555556,\"#d8576b\"],[0.6666666666666666,\"#ed7953\"],[0.7777777777777778,\"#fb9f3a\"],[0.8888888888888888,\"#fdca26\"],[1.0,\"#f0f921\"]],\"diverging\":[[0,\"#8e0152\"],[0.1,\"#c51b7d\"],[0.2,\"#de77ae\"],[0.3,\"#f1b6da\"],[0.4,\"#fde0ef\"],[0.5,\"#f7f7f7\"],[0.6,\"#e6f5d0\"],[0.7,\"#b8e186\"],[0.8,\"#7fbc41\"],[0.9,\"#4d9221\"],[1,\"#276419\"]]},\"xaxis\":{\"gridcolor\":\"white\",\"linecolor\":\"white\",\"ticks\":\"\",\"title\":{\"standoff\":15},\"zerolinecolor\":\"white\",\"automargin\":true,\"zerolinewidth\":2},\"yaxis\":{\"gridcolor\":\"white\",\"linecolor\":\"white\",\"ticks\":\"\",\"title\":{\"standoff\":15},\"zerolinecolor\":\"white\",\"automargin\":true,\"zerolinewidth\":2},\"scene\":{\"xaxis\":{\"backgroundcolor\":\"#E5ECF6\",\"gridcolor\":\"white\",\"linecolor\":\"white\",\"showbackground\":true,\"ticks\":\"\",\"zerolinecolor\":\"white\",\"gridwidth\":2},\"yaxis\":{\"backgroundcolor\":\"#E5ECF6\",\"gridcolor\":\"white\",\"linecolor\":\"white\",\"showbackground\":true,\"ticks\":\"\",\"zerolinecolor\":\"white\",\"gridwidth\":2},\"zaxis\":{\"backgroundcolor\":\"#E5ECF6\",\"gridcolor\":\"white\",\"linecolor\":\"white\",\"showbackground\":true,\"ticks\":\"\",\"zerolinecolor\":\"white\",\"gridwidth\":2}},\"shapedefaults\":{\"line\":{\"color\":\"#2a3f5f\"}},\"annotationdefaults\":{\"arrowcolor\":\"#2a3f5f\",\"arrowhead\":0,\"arrowwidth\":1},\"geo\":{\"bgcolor\":\"white\",\"landcolor\":\"#E5ECF6\",\"subunitcolor\":\"white\",\"showland\":true,\"showlakes\":true,\"lakecolor\":\"white\"},\"title\":{\"x\":0.05},\"mapbox\":{\"style\":\"light\"}}},\"xaxis\":{\"title\":{\"text\":\"Predictions\"},\"linecolor\":\"rgba(0,0,0,1)\",\"range\":[-0.5,0.5],\"showticklabels\":false},\"yaxis\":{\"title\":{\"text\":\"Accuracy (%)\"},\"linecolor\":\"rgba(0,0,0,1)\",\"range\":[0,30]},\"margin\":{\"l\":450,\"r\":450,\"t\":50,\"b\":50},\"paper_bgcolor\":\"rgba(0, 0, 0, 0)\",\"plot_bgcolor\":\"rgba(0, 0, 0, 0)\",\"height\":400},                        {\"responsive\": true}                    ).then(function(){\n",
       "                            \n",
       "var gd = document.getElementById('4bf83975-5187-4792-9b8d-b13501e0c406');\n",
       "var x = new MutationObserver(function (mutations, observer) {{\n",
       "        var display = window.getComputedStyle(gd).display;\n",
       "        if (!display || display === 'none') {{\n",
       "            console.log([gd, 'removed!']);\n",
       "            Plotly.purge(gd);\n",
       "            observer.disconnect();\n",
       "        }}\n",
       "}});\n",
       "\n",
       "// Listen for the removal of the full notebook cells\n",
       "var notebookContainer = gd.closest('#notebook-container');\n",
       "if (notebookContainer) {{\n",
       "    x.observe(notebookContainer, {childList: true});\n",
       "}}\n",
       "\n",
       "// Listen for the clearing of the current output cell\n",
       "var outputEl = gd.closest('.output');\n",
       "if (outputEl) {{\n",
       "    x.observe(outputEl, {childList: true});\n",
       "}}\n",
       "\n",
       "                        })                };                });            </script>        </div>"
      ]
     },
     "metadata": {},
     "output_type": "display_data"
    }
   ],
   "source": [
    "fig3 = go.Figure()\n",
    "dfst_rms=np.zeros(100)\n",
    "xrt=0.1*np.random.rand(100)-.05\n",
    "\n",
    "for i in np.arange(np.shape(sft)[0]):\n",
    "    dfst = pd.read_csv(sft[i])\n",
    "    dfst_rms[i] = 100*sum(dfst.correctness)/len(dfst.correctness)\n",
    "\n",
    "fig3.add_trace(go.Scatter(x=xr,y=dfst_rms,\n",
    "                          mode='markers',\n",
    "                          name='Permuted',\n",
    "                          marker=dict(size=10,\n",
    "                                      color='rgba(225,225,225,1)',\n",
    "                                      line=dict(width=2,\n",
    "                                               color='rgba(0,0,0,1)')\n",
    "                          )))\n",
    "fig3.add_trace(go.Scatter(x=[0],y=[100*sum(dfgt.correctness)/len(dfgt.correctness)],\n",
    "                          mode='markers',\n",
    "                          name='Test',\n",
    "                          marker=dict(size=10,\n",
    "                                     color='rgba(255,0,0,1)',\n",
    "                                     line=dict(width=2,\n",
    "                                              color='rgba(0,0,0,1)')\n",
    "                                     )\n",
    "                         )\n",
    "              )\n",
    "\n",
    "fig3.update_xaxes(linecolor='rgba(0,0,0,1)',\n",
    "                  range=[-0.5,.5],\n",
    "                  showticklabels=False,\n",
    "                  title_text='Predictions',\n",
    "                )\n",
    "fig3.update_yaxes(linecolor='rgba(0,0,0,1)',\n",
    "                  range=[0,30],\n",
    "                 title_text='Accuracy (%)'\n",
    "                )\n",
    "fig3.update_layout(\n",
    "    paper_bgcolor='rgba(0, 0, 0, 0)',\n",
    "    plot_bgcolor='rgba(0, 0, 0, 0)',\n",
    "    margin=dict(l=450, r=450, t=50, b=50),\n",
    "    height=400\n",
    ")"
   ]
  }
 ],
 "metadata": {
  "kernelspec": {
   "display_name": "Python 3 (ipykernel)",
   "language": "python",
   "name": "python3"
  },
  "language_info": {
   "codemirror_mode": {
    "name": "ipython",
    "version": 3
   },
   "file_extension": ".py",
   "mimetype": "text/x-python",
   "name": "python",
   "nbconvert_exporter": "python",
   "pygments_lexer": "ipython3",
   "version": "3.9.7"
  }
 },
 "nbformat": 4,
 "nbformat_minor": 5
}
